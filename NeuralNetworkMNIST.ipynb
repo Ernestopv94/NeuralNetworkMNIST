{
 "cells": [
  {
   "cell_type": "markdown",
   "metadata": {},
   "source": [
    "## Práctica 2 Ernesto Pablo Vallejo Luengo"
   ]
  },
  {
   "cell_type": "code",
   "execution_count": 2,
   "metadata": {},
   "outputs": [],
   "source": [
    "import tensorflow as tf\n",
    "from tensorflow import keras\n",
    "import numpy as np\n",
    "import matplotlib.pyplot as plt\n",
    "import os\n",
    "import time\n",
    "from sklearn.metrics import confusion_matrix\n",
    "import pandas as pd"
   ]
  },
  {
   "cell_type": "markdown",
   "metadata": {},
   "source": [
    "Primero se dividen los datos en train set y test set. A continuación se divide de nuevo el train set para obtener el validation set. También se divide el valor de los píxeles entre 255 para que los inputs de la red neuronal reciban números entre 0 y 1."
   ]
  },
  {
   "cell_type": "code",
   "execution_count": 3,
   "metadata": {},
   "outputs": [],
   "source": [
    "(X_train_full, y_train_full), (X_test, y_test) = keras.datasets.mnist.load_data()"
   ]
  },
  {
   "cell_type": "code",
   "execution_count": 4,
   "metadata": {},
   "outputs": [],
   "source": [
    "X_valid, X_train = X_train_full[:5000] / 255., X_train_full[5000:] / 255.\n",
    "y_valid, y_train = y_train_full[:5000], y_train_full[5000:]\n",
    "X_test = X_test / 255."
   ]
  },
  {
   "cell_type": "markdown",
   "metadata": {},
   "source": [
    "Se construye la función que crea y compila el modelo. La función de activación de las capas internas es 'relu' y la de la capa de output es 'softmax' tal y como se ha visto en el libro."
   ]
  },
  {
   "cell_type": "code",
   "execution_count": 5,
   "metadata": {},
   "outputs": [],
   "source": [
    "# Función que crea y compila el modelo\n",
    "def build_model(n_hidden=1, n_neurons=10, learning_rate=3e-3):\n",
    "    model = keras.models.Sequential()\n",
    "    model.add(keras.layers.Flatten(input_shape=[28, 28]))\n",
    "    for layer in range(n_hidden):\n",
    "        model.add(keras.layers.Dense(n_neurons, activation=\"relu\"))\n",
    "        \n",
    "    model.add(keras.layers.Dense(10, activation=\"softmax\"))\n",
    "    optimizer = keras.optimizers.SGD(lr=learning_rate)\n",
    "    model.compile(loss=\"sparse_categorical_crossentropy\", optimizer=optimizer,\n",
    "              metrics=[\"accuracy\"])\n",
    "    return model"
   ]
  },
  {
   "cell_type": "markdown",
   "metadata": {},
   "source": [
    "## 2 capas ocultas"
   ]
  },
  {
   "cell_type": "markdown",
   "metadata": {},
   "source": [
    "Tanto para el modelo de 2 capas como para el resto se ha elegido que las capas internas tengan 300 neuronas. Se ha elegido este número porque, como se explica en el libro, es mejor tener neuronas de sobra y evitar el overfitting usando early stopping que gastar tiempo en buscar al número óptimo para cada capa."
   ]
  },
  {
   "cell_type": "markdown",
   "metadata": {},
   "source": [
    "Para calcular el learning rate óptimo se va a hacer un bucle en el que se entrena el modelo durante solo un epoch y se almacena el valor de la función de pérdida. En cada bucle se aumenta el learning rate hasta llegar a 1. "
   ]
  },
  {
   "cell_type": "code",
   "execution_count": 5,
   "metadata": {},
   "outputs": [
    {
     "name": "stdout",
     "output_type": "stream",
     "text": [
      "1719/1719 [==============================] - 2s 1ms/step - loss: 1.7526 - accuracy: 0.5661 - val_loss: 1.1950 - val_accuracy: 0.7650\n",
      "1719/1719 [==============================] - 2s 1ms/step - loss: 1.7387 - accuracy: 0.6077 - val_loss: 1.1751 - val_accuracy: 0.7936\n",
      "1719/1719 [==============================] - 2s 1ms/step - loss: 1.7721 - accuracy: 0.5406 - val_loss: 1.2017 - val_accuracy: 0.7748\n",
      "1719/1719 [==============================] - 2s 1ms/step - loss: 1.7474 - accuracy: 0.5752 - val_loss: 1.1651 - val_accuracy: 0.7844\n",
      "1719/1719 [==============================] - 2s 1ms/step - loss: 1.6586 - accuracy: 0.6173 - val_loss: 1.0339 - val_accuracy: 0.8132\n",
      "1719/1719 [==============================] - 2s 1ms/step - loss: 1.6091 - accuracy: 0.6291 - val_loss: 0.9934 - val_accuracy: 0.7978\n",
      "1719/1719 [==============================] - 2s 1ms/step - loss: 1.6078 - accuracy: 0.6089 - val_loss: 0.9762 - val_accuracy: 0.8054\n",
      "1719/1719 [==============================] - 2s 1ms/step - loss: 1.6458 - accuracy: 0.6026 - val_loss: 0.9995 - val_accuracy: 0.8060\n",
      "1719/1719 [==============================] - 2s 1ms/step - loss: 1.5703 - accuracy: 0.6470 - val_loss: 0.9026 - val_accuracy: 0.8224\n",
      "1719/1719 [==============================] - 2s 1ms/step - loss: 1.5300 - accuracy: 0.6567 - val_loss: 0.8710 - val_accuracy: 0.8236\n",
      "1719/1719 [==============================] - 2s 1ms/step - loss: 1.5212 - accuracy: 0.6351 - val_loss: 0.8459 - val_accuracy: 0.8226\n",
      "1719/1719 [==============================] - 2s 1ms/step - loss: 1.5253 - accuracy: 0.6566 - val_loss: 0.8226 - val_accuracy: 0.8380\n",
      "1719/1719 [==============================] - 2s 1ms/step - loss: 1.3642 - accuracy: 0.6934 - val_loss: 0.7325 - val_accuracy: 0.8382\n",
      "1711/1719 [============================>.] - ETA: 0s - loss: 1.4414 - accuracy: 0.6604WARNING:tensorflow:Callbacks method `on_test_batch_end` is slow compared to the batch time (batch time: 0.0000s vs `on_test_batch_end` time: 0.0010s). Check your callbacks.\n",
      "1719/1719 [==============================] - 2s 1ms/step - loss: 1.4387 - accuracy: 0.6611 - val_loss: 0.7706 - val_accuracy: 0.8322\n",
      "1719/1719 [==============================] - 2s 1ms/step - loss: 1.3517 - accuracy: 0.6954 - val_loss: 0.6988 - val_accuracy: 0.8462\n",
      "1719/1719 [==============================] - 2s 1ms/step - loss: 1.3522 - accuracy: 0.6777 - val_loss: 0.6938 - val_accuracy: 0.8424\n",
      "1719/1719 [==============================] - 2s 1ms/step - loss: 1.2775 - accuracy: 0.7100 - val_loss: 0.6489 - val_accuracy: 0.8500\n",
      "1719/1719 [==============================] - 2s 1ms/step - loss: 1.3337 - accuracy: 0.6877 - val_loss: 0.6559 - val_accuracy: 0.8522\n",
      "1719/1719 [==============================] - 2s 1ms/step - loss: 1.2436 - accuracy: 0.7145 - val_loss: 0.6004 - val_accuracy: 0.8624\n",
      "1719/1719 [==============================] - 2s 1ms/step - loss: 1.2211 - accuracy: 0.7052 - val_loss: 0.6010 - val_accuracy: 0.8576\n",
      "1719/1719 [==============================] - 2s 1ms/step - loss: 1.2147 - accuracy: 0.7178 - val_loss: 0.5845 - val_accuracy: 0.8664\n",
      "1719/1719 [==============================] - 2s 1ms/step - loss: 1.1706 - accuracy: 0.7321 - val_loss: 0.5569 - val_accuracy: 0.8652\n",
      "1719/1719 [==============================] - 2s 1ms/step - loss: 1.1252 - accuracy: 0.7392 - val_loss: 0.5396 - val_accuracy: 0.8736\n",
      "1719/1719 [==============================] - 2s 1ms/step - loss: 1.1318 - accuracy: 0.7276 - val_loss: 0.5332 - val_accuracy: 0.8692\n",
      "1719/1719 [==============================] - 2s 1ms/step - loss: 1.0769 - accuracy: 0.7422 - val_loss: 0.5144 - val_accuracy: 0.8702\n",
      "1719/1719 [==============================] - 2s 1ms/step - loss: 1.0160 - accuracy: 0.7584 - val_loss: 0.4819 - val_accuracy: 0.8774\n",
      "1719/1719 [==============================] - 2s 1ms/step - loss: 1.0273 - accuracy: 0.7553 - val_loss: 0.4781 - val_accuracy: 0.8816\n",
      "1719/1719 [==============================] - 2s 1ms/step - loss: 0.9951 - accuracy: 0.7686 - val_loss: 0.4618 - val_accuracy: 0.8840\n",
      "1719/1719 [==============================] - 2s 1ms/step - loss: 0.9657 - accuracy: 0.7702 - val_loss: 0.4566 - val_accuracy: 0.8836\n",
      "1719/1719 [==============================] - 2s 1ms/step - loss: 0.9601 - accuracy: 0.7763 - val_loss: 0.4349 - val_accuracy: 0.8852\n",
      "1719/1719 [==============================] - 2s 1ms/step - loss: 0.9714 - accuracy: 0.7671 - val_loss: 0.4393 - val_accuracy: 0.8852\n",
      "1719/1719 [==============================] - 2s 1ms/step - loss: 0.8973 - accuracy: 0.7881 - val_loss: 0.4138 - val_accuracy: 0.8930\n",
      "1719/1719 [==============================] - 2s 1ms/step - loss: 0.8890 - accuracy: 0.7875 - val_loss: 0.4083 - val_accuracy: 0.8888\n",
      "1719/1719 [==============================] - 2s 1ms/step - loss: 0.8771 - accuracy: 0.7909 - val_loss: 0.4015 - val_accuracy: 0.8942\n",
      "1719/1719 [==============================] - 2s 1ms/step - loss: 0.8639 - accuracy: 0.7885 - val_loss: 0.3966 - val_accuracy: 0.8936\n",
      "1719/1719 [==============================] - 2s 1ms/step - loss: 0.8487 - accuracy: 0.7919 - val_loss: 0.3928 - val_accuracy: 0.8956\n",
      "1719/1719 [==============================] - 2s 1ms/step - loss: 0.7908 - accuracy: 0.8091 - val_loss: 0.3767 - val_accuracy: 0.8978\n",
      "1719/1719 [==============================] - 2s 1ms/step - loss: 0.7786 - accuracy: 0.8103 - val_loss: 0.3734 - val_accuracy: 0.8992\n",
      "1719/1719 [==============================] - 2s 1ms/step - loss: 0.7321 - accuracy: 0.8254 - val_loss: 0.3543 - val_accuracy: 0.9044\n",
      "1719/1719 [==============================] - 2s 1ms/step - loss: 0.7528 - accuracy: 0.8150 - val_loss: 0.3528 - val_accuracy: 0.9018\n",
      "1671/1719 [============================>.] - ETA: 0s - loss: 0.7326 - accuracy: 0.8235WARNING:tensorflow:Callbacks method `on_test_batch_end` is slow compared to the batch time (batch time: 0.0000s vs `on_test_batch_end` time: 0.0010s). Check your callbacks.\n",
      "1719/1719 [==============================] - 2s 1ms/step - loss: 0.7224 - accuracy: 0.8258 - val_loss: 0.3513 - val_accuracy: 0.9044\n",
      "1719/1719 [==============================] - 2s 1ms/step - loss: 0.7161 - accuracy: 0.8238 - val_loss: 0.3400 - val_accuracy: 0.9078\n",
      "1719/1719 [==============================] - 2s 1ms/step - loss: 0.7002 - accuracy: 0.8242 - val_loss: 0.3390 - val_accuracy: 0.9042\n",
      "1709/1719 [============================>.] - ETA: 0s - loss: 0.6982 - accuracy: 0.8248WARNING:tensorflow:Callbacks method `on_test_batch_begin` is slow compared to the batch time (batch time: 0.0000s vs `on_test_batch_begin` time: 0.0010s). Check your callbacks.\n",
      "1719/1719 [==============================] - 2s 1ms/step - loss: 0.6963 - accuracy: 0.8252 - val_loss: 0.3363 - val_accuracy: 0.9060\n",
      "1693/1719 [============================>.] - ETA: 0s - loss: 0.6829 - accuracy: 0.8269WARNING:tensorflow:Callbacks method `on_test_batch_begin` is slow compared to the batch time (batch time: 0.0000s vs `on_test_batch_begin` time: 0.0010s). Check your callbacks.\n",
      "1719/1719 [==============================] - 2s 1ms/step - loss: 0.6777 - accuracy: 0.8280 - val_loss: 0.3341 - val_accuracy: 0.9104\n",
      "1719/1719 [==============================] - 2s 1ms/step - loss: 0.6493 - accuracy: 0.8362 - val_loss: 0.3196 - val_accuracy: 0.9092\n",
      "1719/1719 [==============================] - 2s 1ms/step - loss: 0.6359 - accuracy: 0.8419 - val_loss: 0.3121 - val_accuracy: 0.9114\n",
      "1719/1719 [==============================] - 2s 1ms/step - loss: 0.6173 - accuracy: 0.8494 - val_loss: 0.3085 - val_accuracy: 0.9194\n",
      "1719/1719 [==============================] - 2s 1ms/step - loss: 0.6067 - accuracy: 0.8463 - val_loss: 0.3056 - val_accuracy: 0.9178\n",
      "1719/1719 [==============================] - 2s 1ms/step - loss: 0.6005 - accuracy: 0.8474 - val_loss: 0.2983 - val_accuracy: 0.9220\n",
      "1719/1719 [==============================] - 2s 1ms/step - loss: 0.5757 - accuracy: 0.8539 - val_loss: 0.2995 - val_accuracy: 0.9182\n",
      "1719/1719 [==============================] - 2s 1ms/step - loss: 0.5622 - accuracy: 0.8556 - val_loss: 0.2913 - val_accuracy: 0.9182\n",
      "1719/1719 [==============================] - 2s 1ms/step - loss: 0.5702 - accuracy: 0.8537 - val_loss: 0.2935 - val_accuracy: 0.9220\n",
      "1719/1719 [==============================] - 2s 1ms/step - loss: 0.5522 - accuracy: 0.8559 - val_loss: 0.2799 - val_accuracy: 0.9238\n"
     ]
    },
    {
     "name": "stdout",
     "output_type": "stream",
     "text": [
      "1719/1719 [==============================] - 2s 1ms/step - loss: 0.5362 - accuracy: 0.8568 - val_loss: 0.2751 - val_accuracy: 0.9226\n",
      "1719/1719 [==============================] - 2s 1ms/step - loss: 0.5215 - accuracy: 0.8642 - val_loss: 0.2782 - val_accuracy: 0.9208\n",
      "1719/1719 [==============================] - 2s 1ms/step - loss: 0.5218 - accuracy: 0.8601 - val_loss: 0.2745 - val_accuracy: 0.9252\n",
      "1719/1719 [==============================] - 2s 1ms/step - loss: 0.5114 - accuracy: 0.8665 - val_loss: 0.2674 - val_accuracy: 0.9244\n",
      "1719/1719 [==============================] - 2s 1ms/step - loss: 0.5017 - accuracy: 0.8663 - val_loss: 0.2569 - val_accuracy: 0.9292\n",
      "1719/1719 [==============================] - 2s 1ms/step - loss: 0.4911 - accuracy: 0.8692 - val_loss: 0.2488 - val_accuracy: 0.9318\n",
      "1719/1719 [==============================] - 2s 1ms/step - loss: 0.4780 - accuracy: 0.8698 - val_loss: 0.2585 - val_accuracy: 0.9258\n",
      "1719/1719 [==============================] - 2s 1ms/step - loss: 0.4652 - accuracy: 0.8756 - val_loss: 0.2458 - val_accuracy: 0.9320\n",
      "1719/1719 [==============================] - 2s 1ms/step - loss: 0.4619 - accuracy: 0.8765 - val_loss: 0.2531 - val_accuracy: 0.9296\n",
      "1719/1719 [==============================] - 2s 1ms/step - loss: 0.4508 - accuracy: 0.8787 - val_loss: 0.2333 - val_accuracy: 0.9356\n",
      "1719/1719 [==============================] - 2s 1ms/step - loss: 0.4376 - accuracy: 0.8812 - val_loss: 0.2339 - val_accuracy: 0.9350\n",
      "1719/1719 [==============================] - 2s 1ms/step - loss: 0.4300 - accuracy: 0.8836 - val_loss: 0.2324 - val_accuracy: 0.9350\n",
      "1719/1719 [==============================] - 2s 1ms/step - loss: 0.4377 - accuracy: 0.8802 - val_loss: 0.2251 - val_accuracy: 0.9382\n",
      "1719/1719 [==============================] - 2s 1ms/step - loss: 0.4192 - accuracy: 0.8851 - val_loss: 0.2206 - val_accuracy: 0.9420\n",
      "1719/1719 [==============================] - 2s 1ms/step - loss: 0.4178 - accuracy: 0.8866 - val_loss: 0.2145 - val_accuracy: 0.9396\n",
      "1719/1719 [==============================] - 2s 1ms/step - loss: 0.4040 - accuracy: 0.8883 - val_loss: 0.2103 - val_accuracy: 0.9418\n",
      "1719/1719 [==============================] - 2s 1ms/step - loss: 0.3944 - accuracy: 0.8905 - val_loss: 0.2297 - val_accuracy: 0.9352\n",
      "1719/1719 [==============================] - 2s 1ms/step - loss: 0.3873 - accuracy: 0.8925 - val_loss: 0.2088 - val_accuracy: 0.9418\n",
      "1719/1719 [==============================] - 2s 1ms/step - loss: 0.3878 - accuracy: 0.8924 - val_loss: 0.2125 - val_accuracy: 0.9392\n",
      "1719/1719 [==============================] - 2s 1ms/step - loss: 0.3842 - accuracy: 0.8947 - val_loss: 0.1966 - val_accuracy: 0.9444\n",
      "1719/1719 [==============================] - 2s 1ms/step - loss: 0.3705 - accuracy: 0.8975 - val_loss: 0.1906 - val_accuracy: 0.9454\n",
      "1719/1719 [==============================] - 2s 1ms/step - loss: 0.3668 - accuracy: 0.8969 - val_loss: 0.1955 - val_accuracy: 0.9448\n",
      "1678/1719 [============================>.] - ETA: 0s - loss: 0.3670 - accuracy: 0.8983WARNING:tensorflow:Callbacks method `on_test_batch_end` is slow compared to the batch time (batch time: 0.0000s vs `on_test_batch_end` time: 0.0010s). Check your callbacks.\n",
      "1719/1719 [==============================] - 2s 1ms/step - loss: 0.3631 - accuracy: 0.8994 - val_loss: 0.1930 - val_accuracy: 0.9486\n",
      "1719/1719 [==============================] - 2s 1ms/step - loss: 0.3539 - accuracy: 0.9002 - val_loss: 0.1910 - val_accuracy: 0.9476\n",
      "1719/1719 [==============================] - 2s 1ms/step - loss: 0.3444 - accuracy: 0.9032 - val_loss: 0.2036 - val_accuracy: 0.9422\n",
      "1719/1719 [==============================] - 2s 1ms/step - loss: 0.3370 - accuracy: 0.9052 - val_loss: 0.1859 - val_accuracy: 0.9492\n",
      "1719/1719 [==============================] - 2s 1ms/step - loss: 0.3348 - accuracy: 0.9032 - val_loss: 0.1746 - val_accuracy: 0.9506\n",
      "1719/1719 [==============================] - 2s 1ms/step - loss: 0.3311 - accuracy: 0.9045 - val_loss: 0.1655 - val_accuracy: 0.9550\n",
      "1719/1719 [==============================] - 2s 1ms/step - loss: 0.3315 - accuracy: 0.9059 - val_loss: 0.1766 - val_accuracy: 0.9524\n",
      "1719/1719 [==============================] - 2s 1ms/step - loss: 0.3215 - accuracy: 0.9069 - val_loss: 0.1650 - val_accuracy: 0.9544\n",
      "1719/1719 [==============================] - 2s 1ms/step - loss: 0.3137 - accuracy: 0.9100 - val_loss: 0.1526 - val_accuracy: 0.9584\n",
      "1719/1719 [==============================] - 2s 1ms/step - loss: 0.3053 - accuracy: 0.9121 - val_loss: 0.1628 - val_accuracy: 0.9530\n",
      "1719/1719 [==============================] - 2s 1ms/step - loss: 0.3031 - accuracy: 0.9115 - val_loss: 0.1550 - val_accuracy: 0.9568\n",
      "1719/1719 [==============================] - 2s 1ms/step - loss: 0.3062 - accuracy: 0.9111 - val_loss: 0.1568 - val_accuracy: 0.9542\n",
      "1719/1719 [==============================] - 2s 1ms/step - loss: 0.2902 - accuracy: 0.9150 - val_loss: 0.1392 - val_accuracy: 0.9590\n",
      "1719/1719 [==============================] - 2s 1ms/step - loss: 0.2943 - accuracy: 0.9135 - val_loss: 0.1408 - val_accuracy: 0.9560\n",
      "1719/1719 [==============================] - 2s 1ms/step - loss: 0.2895 - accuracy: 0.9148 - val_loss: 0.1380 - val_accuracy: 0.9618\n",
      "1719/1719 [==============================] - 2s 1ms/step - loss: 0.2791 - accuracy: 0.9179 - val_loss: 0.1429 - val_accuracy: 0.9590\n",
      "1719/1719 [==============================] - 2s 1ms/step - loss: 0.2803 - accuracy: 0.9177 - val_loss: 0.1601 - val_accuracy: 0.9514\n",
      "1719/1719 [==============================] - 2s 1ms/step - loss: 0.2745 - accuracy: 0.9201 - val_loss: 0.1238 - val_accuracy: 0.9676\n",
      "1719/1719 [==============================] - 2s 1ms/step - loss: 0.2717 - accuracy: 0.9191 - val_loss: 0.1189 - val_accuracy: 0.9666\n",
      "1719/1719 [==============================] - 2s 1ms/step - loss: 0.2703 - accuracy: 0.9209 - val_loss: 0.1394 - val_accuracy: 0.9604\n",
      "1719/1719 [==============================] - 2s 1ms/step - loss: 0.2645 - accuracy: 0.9210 - val_loss: 0.1197 - val_accuracy: 0.9672\n",
      "1719/1719 [==============================] - 2s 1ms/step - loss: 0.2598 - accuracy: 0.9209 - val_loss: 0.1360 - val_accuracy: 0.9604\n",
      "1719/1719 [==============================] - 2s 1ms/step - loss: 0.2596 - accuracy: 0.9240 - val_loss: 0.1362 - val_accuracy: 0.9596\n",
      "1719/1719 [==============================] - 2s 1ms/step - loss: 0.2558 - accuracy: 0.9224 - val_loss: 0.1148 - val_accuracy: 0.9650\n",
      "1719/1719 [==============================] - 2s 1ms/step - loss: 0.2462 - accuracy: 0.9265 - val_loss: 0.2266 - val_accuracy: 0.9224\n",
      "1679/1719 [============================>.] - ETA: 0s - loss: 0.2496 - accuracy: 0.9242WARNING:tensorflow:Callbacks method `on_test_batch_end` is slow compared to the batch time (batch time: 0.0000s vs `on_test_batch_end` time: 0.0010s). Check your callbacks.\n",
      "1719/1719 [==============================] - 2s 1ms/step - loss: 0.2463 - accuracy: 0.9251 - val_loss: 0.1156 - val_accuracy: 0.9680\n",
      "1719/1719 [==============================] - 2s 1ms/step - loss: 0.2491 - accuracy: 0.9237 - val_loss: 0.1338 - val_accuracy: 0.9586\n",
      "1719/1719 [==============================] - 2s 1ms/step - loss: 0.2455 - accuracy: 0.9249 - val_loss: 0.1152 - val_accuracy: 0.9660\n",
      "1677/1719 [============================>.] - ETA: 0s - loss: 0.2491 - accuracy: 0.9248WARNING:tensorflow:Callbacks method `on_test_batch_end` is slow compared to the batch time (batch time: 0.0000s vs `on_test_batch_end` time: 0.0010s). Check your callbacks.\n",
      "1719/1719 [==============================] - 2s 1ms/step - loss: 0.2464 - accuracy: 0.9258 - val_loss: 0.1269 - val_accuracy: 0.9618\n",
      "1719/1719 [==============================] - 2s 1ms/step - loss: 0.2375 - accuracy: 0.9272 - val_loss: 0.1071 - val_accuracy: 0.9682\n",
      "1719/1719 [==============================] - 2s 1ms/step - loss: 0.2425 - accuracy: 0.9250 - val_loss: 0.1151 - val_accuracy: 0.9672\n",
      "1719/1719 [==============================] - 2s 1ms/step - loss: 0.2327 - accuracy: 0.9276 - val_loss: 0.1534 - val_accuracy: 0.9546\n",
      "1719/1719 [==============================] - 2s 1ms/step - loss: 0.2326 - accuracy: 0.9271 - val_loss: 0.1586 - val_accuracy: 0.9482\n",
      "1719/1719 [==============================] - 2s 1ms/step - loss: 0.2301 - accuracy: 0.9288 - val_loss: 0.1686 - val_accuracy: 0.9470\n"
     ]
    },
    {
     "name": "stdout",
     "output_type": "stream",
     "text": [
      "1719/1719 [==============================] - 2s 1ms/step - loss: 0.2293 - accuracy: 0.9289 - val_loss: 0.1008 - val_accuracy: 0.9708\n",
      "1719/1719 [==============================] - 2s 1ms/step - loss: 0.2294 - accuracy: 0.9286 - val_loss: 0.1155 - val_accuracy: 0.9670\n",
      "1719/1719 [==============================] - 2s 1ms/step - loss: 0.2307 - accuracy: 0.9284 - val_loss: 0.1363 - val_accuracy: 0.9584\n",
      "1719/1719 [==============================] - 2s 1ms/step - loss: 0.2267 - accuracy: 0.9304 - val_loss: 0.1018 - val_accuracy: 0.9686\n",
      "1719/1719 [==============================] - 2s 1ms/step - loss: 0.2278 - accuracy: 0.9286 - val_loss: 0.1044 - val_accuracy: 0.9702\n",
      "1719/1719 [==============================] - 2s 1ms/step - loss: 0.2279 - accuracy: 0.9290 - val_loss: 0.1082 - val_accuracy: 0.9654\n",
      "1719/1719 [==============================] - 2s 1ms/step - loss: 0.2248 - accuracy: 0.9293 - val_loss: 0.1101 - val_accuracy: 0.9690\n",
      "1719/1719 [==============================] - 2s 1ms/step - loss: 0.2243 - accuracy: 0.9291 - val_loss: 0.0964 - val_accuracy: 0.9712\n",
      "1719/1719 [==============================] - 2s 1ms/step - loss: 0.2291 - accuracy: 0.9278 - val_loss: 0.0953 - val_accuracy: 0.9702\n",
      "1719/1719 [==============================] - 2s 1ms/step - loss: 0.2293 - accuracy: 0.9284 - val_loss: 0.1160 - val_accuracy: 0.9636\n",
      "1719/1719 [==============================] - 2s 1ms/step - loss: 0.2293 - accuracy: 0.9285 - val_loss: 0.1027 - val_accuracy: 0.9690\n",
      "1719/1719 [==============================] - 2s 1ms/step - loss: 0.2291 - accuracy: 0.9281 - val_loss: 0.1034 - val_accuracy: 0.9710\n",
      "1719/1719 [==============================] - 2s 1ms/step - loss: 0.2347 - accuracy: 0.9271 - val_loss: 0.0972 - val_accuracy: 0.9704\n",
      "1719/1719 [==============================] - 2s 1ms/step - loss: 0.2408 - accuracy: 0.9261 - val_loss: 0.1072 - val_accuracy: 0.9668\n",
      "1719/1719 [==============================] - 2s 1ms/step - loss: 0.2387 - accuracy: 0.9250 - val_loss: 0.1015 - val_accuracy: 0.9696\n",
      "1719/1719 [==============================] - 2s 1ms/step - loss: 0.2479 - accuracy: 0.9228 - val_loss: 0.1219 - val_accuracy: 0.9630\n",
      "1719/1719 [==============================] - 2s 1ms/step - loss: 0.2457 - accuracy: 0.9238 - val_loss: 0.1388 - val_accuracy: 0.9562\n",
      "1719/1719 [==============================] - 2s 1ms/step - loss: 0.2510 - accuracy: 0.9221 - val_loss: 0.1048 - val_accuracy: 0.9696\n",
      "1719/1719 [==============================] - 2s 1ms/step - loss: 0.2628 - accuracy: 0.9187 - val_loss: 0.1202 - val_accuracy: 0.9642\n",
      "1719/1719 [==============================] - 2s 1ms/step - loss: 0.2590 - accuracy: 0.9200 - val_loss: 0.1212 - val_accuracy: 0.9658\n",
      "1719/1719 [==============================] - 2s 1ms/step - loss: 0.2742 - accuracy: 0.9167 - val_loss: 0.1387 - val_accuracy: 0.9580\n",
      "1719/1719 [==============================] - 2s 1ms/step - loss: 0.2768 - accuracy: 0.9145 - val_loss: 0.1492 - val_accuracy: 0.9554\n",
      "1719/1719 [==============================] - 2s 1ms/step - loss: 0.2837 - accuracy: 0.9147 - val_loss: 0.1358 - val_accuracy: 0.9592\n",
      "1719/1719 [==============================] - 2s 1ms/step - loss: 0.2887 - accuracy: 0.9109 - val_loss: 0.1285 - val_accuracy: 0.9628\n",
      "1719/1719 [==============================] - 2s 1ms/step - loss: 0.3163 - accuracy: 0.9046 - val_loss: 0.1847 - val_accuracy: 0.9434\n",
      "1673/1719 [============================>.] - ETA: 0s - loss: 0.3907 - accuracy: 0.8815WARNING:tensorflow:Callbacks method `on_test_batch_end` is slow compared to the batch time (batch time: 0.0000s vs `on_test_batch_end` time: 0.0010s). Check your callbacks.\n",
      "1719/1719 [==============================] - 2s 1ms/step - loss: 0.3845 - accuracy: 0.8834 - val_loss: 0.1613 - val_accuracy: 0.9544\n",
      "1719/1719 [==============================] - 2s 1ms/step - loss: 0.3728 - accuracy: 0.8907 - val_loss: 0.1806 - val_accuracy: 0.9470\n",
      "1694/1719 [============================>.] - ETA: 0s - loss: 0.4990 - accuracy: 0.8516WARNING:tensorflow:Callbacks method `on_test_batch_end` is slow compared to the batch time (batch time: 0.0000s vs `on_test_batch_end` time: 0.0010s). Check your callbacks.\n",
      "1719/1719 [==============================] - 2s 1ms/step - loss: 0.4954 - accuracy: 0.8528 - val_loss: 0.1814 - val_accuracy: 0.9506\n",
      "1719/1719 [==============================] - 2s 1ms/step - loss: 0.3903 - accuracy: 0.8845 - val_loss: 0.2076 - val_accuracy: 0.9384\n",
      "1719/1719 [==============================] - 2s 1ms/step - loss: 0.4525 - accuracy: 0.8678 - val_loss: 0.1753 - val_accuracy: 0.9502\n",
      "1719/1719 [==============================] - 2s 1ms/step - loss: 0.8657 - accuracy: 0.7319 - val_loss: 0.4333 - val_accuracy: 0.8856\n",
      "1719/1719 [==============================] - 2s 1ms/step - loss: 1.3451 - accuracy: 0.5334 - val_loss: 0.8039 - val_accuracy: 0.7048\n"
     ]
    }
   ],
   "source": [
    "my_learning_rate = 1e-3\n",
    "rates = []\n",
    "losses = []\n",
    "while my_learning_rate <= 1:\n",
    "    model = build_model(n_hidden=2, n_neurons=300, learning_rate=my_learning_rate)\n",
    "    history = model.fit(X_train, y_train, epochs=1,\n",
    "              validation_data=(X_valid, y_valid))\n",
    "    rates.append(my_learning_rate)\n",
    "    losses.append(history.history['loss'][0])\n",
    "    my_learning_rate = my_learning_rate*1.05    "
   ]
  },
  {
   "cell_type": "markdown",
   "metadata": {},
   "source": [
    "Representando la función de pérdida en función del learning rate se observa que esta va descendiendo hasta alcanzar un mínimo y a coninuación vuelve a incrementarse hasta que diverge. Para entrenar el modelo se usará un learning rate de 0.2."
   ]
  },
  {
   "cell_type": "code",
   "execution_count": 6,
   "metadata": {
    "scrolled": false
   },
   "outputs": [
    {
     "data": {
      "text/plain": [
       "Text(0, 0.5, 'Loss')"
      ]
     },
     "execution_count": 6,
     "metadata": {},
     "output_type": "execute_result"
    },
    {
     "data": {
      "image/png": "[encoded data removed]",
      "text/plain": [
       "<Figure size 432x288 with 1 Axes>"
      ]
     },
     "metadata": {
      "needs_background": "light"
     },
     "output_type": "display_data"
    }
   ],
   "source": [
    "plt.plot(rates, losses)\n",
    "plt.gca().set_xscale('log')\n",
    "plt.xlabel(\"Learning rate\")\n",
    "plt.ylabel(\"Loss\")"
   ]
  },
  {
   "cell_type": "markdown",
   "metadata": {},
   "source": [
    "Se crea la ruta para almacenar los logs de tensorboard"
   ]
  },
  {
   "cell_type": "code",
   "execution_count": 8,
   "metadata": {},
   "outputs": [],
   "source": [
    "root_logdir = os.path.join(os.curdir, \"my_logs\")\n",
    "\n",
    "def get_run_logdir():\n",
    "    run_id = time.strftime(\"run_%Y_%m_%d-%H_%M_%S\")\n",
    "    return os.path.join(root_logdir, run_id)\n",
    "\n",
    "run_logdir = os.path.join('two_layer_model',get_run_logdir())"
   ]
  },
  {
   "cell_type": "markdown",
   "metadata": {},
   "source": [
    "Se crean tres callbacks para el modelo. Uno para almacenar los logs de tensorboard, otro para que haga checkpoints del modelo y guarde el mejor y un último para implementar el early stopping. Como se ha visto que en general el modelo tarda pocas epochs en entrenarse se ha puesto una paciencia de 20 en el early stopping, que no supone un gran aumento en el tiempo de calculo."
   ]
  },
  {
   "cell_type": "code",
   "execution_count": 23,
   "metadata": {},
   "outputs": [],
   "source": [
    "tensorboard_cb = keras.callbacks.TensorBoard(run_logdir)\n",
    "\n",
    "checkpoint_cb = keras.callbacks.ModelCheckpoint(\"two_layer_model.h5\",\n",
    "                                                save_best_only=True)\n",
    "\n",
    "early_stopping_cb = keras.callbacks.EarlyStopping(patience=20,\n",
    "                                                  restore_best_weights=True)"
   ]
  },
  {
   "cell_type": "markdown",
   "metadata": {},
   "source": [
    "Con todo listo se empieza a entrenar el modelo."
   ]
  },
  {
   "cell_type": "code",
   "execution_count": 24,
   "metadata": {},
   "outputs": [
    {
     "name": "stdout",
     "output_type": "stream",
     "text": [
      "Epoch 1/100\n",
      "   2/1719 [..............................] - ETA: 10:38 - loss: 2.2725 - accuracy: 0.1562WARNING:tensorflow:Callbacks method `on_train_batch_end` is slow compared to the batch time (batch time: 0.0020s vs `on_train_batch_end` time: 0.7422s). Check your callbacks.\n",
      "1719/1719 [==============================] - 3s 2ms/step - loss: 0.2312 - accuracy: 0.9287 - val_loss: 0.1074 - val_accuracy: 0.9674\n",
      "Epoch 2/100\n",
      "1719/1719 [==============================] - 2s 1ms/step - loss: 0.0917 - accuracy: 0.9718 - val_loss: 0.0945 - val_accuracy: 0.9728\n",
      "Epoch 3/100\n",
      "1719/1719 [==============================] - 2s 1ms/step - loss: 0.0615 - accuracy: 0.9802 - val_loss: 0.0817 - val_accuracy: 0.9724\n",
      "Epoch 4/100\n",
      "1719/1719 [==============================] - 2s 1ms/step - loss: 0.0434 - accuracy: 0.9858 - val_loss: 0.0788 - val_accuracy: 0.9774\n",
      "Epoch 5/100\n",
      "1719/1719 [==============================] - 2s 1ms/step - loss: 0.0325 - accuracy: 0.9890 - val_loss: 0.0694 - val_accuracy: 0.9802\n",
      "Epoch 6/100\n",
      "1719/1719 [==============================] - 2s 1ms/step - loss: 0.0230 - accuracy: 0.9926 - val_loss: 0.0733 - val_accuracy: 0.9818\n",
      "Epoch 7/100\n",
      "1719/1719 [==============================] - 2s 1ms/step - loss: 0.0183 - accuracy: 0.9940 - val_loss: 0.0752 - val_accuracy: 0.9794\n",
      "Epoch 8/100\n",
      "1719/1719 [==============================] - 2s 1ms/step - loss: 0.0116 - accuracy: 0.9966 - val_loss: 0.0651 - val_accuracy: 0.9846\n",
      "Epoch 9/100\n",
      "1719/1719 [==============================] - 2s 1ms/step - loss: 0.0062 - accuracy: 0.9984 - val_loss: 0.0789 - val_accuracy: 0.9830\n",
      "Epoch 10/100\n",
      "1719/1719 [==============================] - 2s 1ms/step - loss: 0.0042 - accuracy: 0.9990 - val_loss: 0.0744 - val_accuracy: 0.9842\n",
      "Epoch 11/100\n",
      "1719/1719 [==============================] - 2s 1ms/step - loss: 0.0022 - accuracy: 0.9995 - val_loss: 0.0729 - val_accuracy: 0.9842\n",
      "Epoch 12/100\n",
      "1719/1719 [==============================] - 2s 1ms/step - loss: 0.0019 - accuracy: 0.9996 - val_loss: 0.0713 - val_accuracy: 0.9852\n",
      "Epoch 13/100\n",
      "1719/1719 [==============================] - 2s 1ms/step - loss: 5.6605e-04 - accuracy: 1.0000 - val_loss: 0.0726 - val_accuracy: 0.9858\n",
      "Epoch 14/100\n",
      "1719/1719 [==============================] - 2s 1ms/step - loss: 3.3606e-04 - accuracy: 1.0000 - val_loss: 0.0726 - val_accuracy: 0.9854\n",
      "Epoch 15/100\n",
      "1719/1719 [==============================] - 2s 1ms/step - loss: 2.5839e-04 - accuracy: 1.0000 - val_loss: 0.0740 - val_accuracy: 0.9848\n",
      "Epoch 16/100\n",
      "1719/1719 [==============================] - 2s 1ms/step - loss: 2.2328e-04 - accuracy: 1.0000 - val_loss: 0.0745 - val_accuracy: 0.9856\n",
      "Epoch 17/100\n",
      "1719/1719 [==============================] - 2s 1ms/step - loss: 1.9733e-04 - accuracy: 1.0000 - val_loss: 0.0757 - val_accuracy: 0.9854\n",
      "Epoch 18/100\n",
      "1719/1719 [==============================] - 2s 1ms/step - loss: 1.7982e-04 - accuracy: 1.0000 - val_loss: 0.0755 - val_accuracy: 0.9854\n",
      "Epoch 19/100\n",
      "1719/1719 [==============================] - 2s 1ms/step - loss: 1.6175e-04 - accuracy: 1.0000 - val_loss: 0.0762 - val_accuracy: 0.9854\n",
      "Epoch 20/100\n",
      "1719/1719 [==============================] - 2s 1ms/step - loss: 1.5054e-04 - accuracy: 1.0000 - val_loss: 0.0770 - val_accuracy: 0.9856\n",
      "Epoch 21/100\n",
      "1719/1719 [==============================] - 2s 1ms/step - loss: 1.3918e-04 - accuracy: 1.0000 - val_loss: 0.0773 - val_accuracy: 0.9852\n",
      "Epoch 22/100\n",
      "1719/1719 [==============================] - 2s 1ms/step - loss: 1.3082e-04 - accuracy: 1.0000 - val_loss: 0.0777 - val_accuracy: 0.9852\n",
      "Epoch 23/100\n",
      "1719/1719 [==============================] - 2s 1ms/step - loss: 1.2294e-04 - accuracy: 1.0000 - val_loss: 0.0783 - val_accuracy: 0.9850\n",
      "Epoch 24/100\n",
      "1719/1719 [==============================] - 2s 1ms/step - loss: 1.1525e-04 - accuracy: 1.0000 - val_loss: 0.0791 - val_accuracy: 0.9852\n",
      "Epoch 25/100\n",
      "1719/1719 [==============================] - 2s 1ms/step - loss: 1.0954e-04 - accuracy: 1.0000 - val_loss: 0.0795 - val_accuracy: 0.9856\n",
      "Epoch 26/100\n",
      "1719/1719 [==============================] - 2s 1ms/step - loss: 1.0444e-04 - accuracy: 1.0000 - val_loss: 0.0796 - val_accuracy: 0.9854\n",
      "Epoch 27/100\n",
      "1719/1719 [==============================] - 2s 1ms/step - loss: 9.9158e-05 - accuracy: 1.0000 - val_loss: 0.0801 - val_accuracy: 0.9856\n",
      "Epoch 28/100\n",
      "1719/1719 [==============================] - 2s 1ms/step - loss: 9.4681e-05 - accuracy: 1.0000 - val_loss: 0.0803 - val_accuracy: 0.9854\n"
     ]
    }
   ],
   "source": [
    "two_layer_model = build_model(n_hidden=2, n_neurons=300, learning_rate=0.2)\n",
    "two_layer_history = two_layer_model.fit(X_train, y_train, epochs=100,\n",
    "              validation_data=(X_valid, y_valid),\n",
    "                    callbacks=[checkpoint_cb, early_stopping_cb,tensorboard_cb])"
   ]
  },
  {
   "cell_type": "code",
   "execution_count": 25,
   "metadata": {
    "scrolled": false
   },
   "outputs": [
    {
     "name": "stdout",
     "output_type": "stream",
     "text": [
      "313/313 [==============================] - 0s 628us/step - loss: 0.0615 - accuracy: 0.9831\n"
     ]
    }
   ],
   "source": [
    "loss_2l, accuracy_2l = two_layer_model.evaluate(X_test, y_test)"
   ]
  },
  {
   "cell_type": "markdown",
   "metadata": {},
   "source": [
    "Se consigue una exactitud de alrededor del 98% para el test set. Debido a la aleatoriedad en el proceso de entrenamiento esta precisión puede variar ligeramente."
   ]
  },
  {
   "cell_type": "code",
   "execution_count": 9,
   "metadata": {},
   "outputs": [],
   "source": [
    "def plot_accuracy_loss(history):\n",
    "    pd.DataFrame(history.history).plot(figsize=(8, 5))\n",
    "    plt.grid(True)\n",
    "    plt.show()"
   ]
  },
  {
   "cell_type": "markdown",
   "metadata": {},
   "source": [
    "Representando los valores de accuracy y loss en función de las epoch se ve que después de las primeras iteraciones los valores no varían mucho. "
   ]
  },
  {
   "cell_type": "code",
   "execution_count": 12,
   "metadata": {
    "scrolled": true
   },
   "outputs": [
    {
     "data": {
      "image/png": "[encoded data removed]",
      "text/plain": [
       "<Figure size 576x360 with 1 Axes>"
      ]
     },
     "metadata": {
      "needs_background": "light"
     },
     "output_type": "display_data"
    }
   ],
   "source": [
    "plot_accuracy_loss(two_layer_history)"
   ]
  },
  {
   "cell_type": "code",
   "execution_count": 10,
   "metadata": {},
   "outputs": [],
   "source": [
    "def round_predictions(y):\n",
    "    return [np.argmax(i) for i in y]"
   ]
  },
  {
   "cell_type": "code",
   "execution_count": 14,
   "metadata": {
    "scrolled": true
   },
   "outputs": [],
   "source": [
    "y_pred = two_layer_model.predict(X_test)"
   ]
  },
  {
   "cell_type": "code",
   "execution_count": 11,
   "metadata": {},
   "outputs": [],
   "source": [
    "def plot_conf_mx(pred):\n",
    "    conf_mx= confusion_matrix(y_test, round_predictions(pred))\n",
    "    row_sums = conf_mx.sum(axis=1, keepdims=True)\n",
    "    norm_conf_mx = conf_mx / row_sums\n",
    "    np.fill_diagonal(norm_conf_mx, 0)\n",
    "    plt.matshow(norm_conf_mx, cmap=plt.cm.gray)\n",
    "    plt.show()"
   ]
  },
  {
   "cell_type": "markdown",
   "metadata": {},
   "source": [
    "Representando la matriz de confusión se puede ver en qué números se suele equivocar el modelo. Se ha modificado la matriz para que la diagonal principal sean todo ceros y que así los errores destaquen más. "
   ]
  },
  {
   "cell_type": "code",
   "execution_count": 16,
   "metadata": {},
   "outputs": [
    {
     "data": {
      "image/png": "[encoded data removed]",
      "text/plain": [
       "<Figure size 288x288 with 1 Axes>"
      ]
     },
     "metadata": {
      "needs_background": "light"
     },
     "output_type": "display_data"
    }
   ],
   "source": [
    "plot_conf_mx(y_pred)"
   ]
  },
  {
   "cell_type": "markdown",
   "metadata": {},
   "source": [
    "## 3 capas ocultas"
   ]
  },
  {
   "cell_type": "markdown",
   "metadata": {},
   "source": [
    "Se repite el mismo proceso para elefir el learning rate para el modelo de 3 capas ocultas."
   ]
  },
  {
   "cell_type": "code",
   "execution_count": 17,
   "metadata": {},
   "outputs": [
    {
     "name": "stdout",
     "output_type": "stream",
     "text": [
      "1719/1719 [==============================] - 3s 1ms/step - loss: 1.9728 - accuracy: 0.5095 - val_loss: 1.4801 - val_accuracy: 0.7448\n",
      "1719/1719 [==============================] - 3s 2ms/step - loss: 1.9456 - accuracy: 0.4893 - val_loss: 1.4162 - val_accuracy: 0.7256\n",
      "1719/1719 [==============================] - 2s 1ms/step - loss: 1.9670 - accuracy: 0.4864 - val_loss: 1.4438 - val_accuracy: 0.7126\n",
      "1719/1719 [==============================] - 2s 1ms/step - loss: 1.9199 - accuracy: 0.5329 - val_loss: 1.3439 - val_accuracy: 0.7608\n",
      "1719/1719 [==============================] - 2s 1ms/step - loss: 1.8926 - accuracy: 0.5220 - val_loss: 1.2780 - val_accuracy: 0.7600\n",
      "1719/1719 [==============================] - 3s 2ms/step - loss: 1.7861 - accuracy: 0.5730 - val_loss: 1.1169 - val_accuracy: 0.7822\n",
      "1719/1719 [==============================] - 2s 1ms/step - loss: 1.8230 - accuracy: 0.5655 - val_loss: 1.1286 - val_accuracy: 0.8168\n",
      "1719/1719 [==============================] - 3s 1ms/step - loss: 1.7615 - accuracy: 0.5938 - val_loss: 1.0376 - val_accuracy: 0.7882\n",
      "1719/1719 [==============================] - 2s 1ms/step - loss: 1.7682 - accuracy: 0.5823 - val_loss: 1.0329 - val_accuracy: 0.7998\n",
      "1719/1719 [==============================] - 2s 1ms/step - loss: 1.7301 - accuracy: 0.5829 - val_loss: 0.9757 - val_accuracy: 0.7978\n",
      "1719/1719 [==============================] - 2s 1ms/step - loss: 1.7209 - accuracy: 0.5751 - val_loss: 0.9565 - val_accuracy: 0.8024\n",
      "1719/1719 [==============================] - 3s 1ms/step - loss: 1.5933 - accuracy: 0.6157 - val_loss: 0.8340 - val_accuracy: 0.8192\n",
      "1719/1719 [==============================] - 2s 1ms/step - loss: 1.6093 - accuracy: 0.6172 - val_loss: 0.8179 - val_accuracy: 0.8234\n",
      "1719/1719 [==============================] - 2s 1ms/step - loss: 1.5602 - accuracy: 0.6255 - val_loss: 0.7610 - val_accuracy: 0.8378\n",
      "1719/1719 [==============================] - 2s 1ms/step - loss: 1.4924 - accuracy: 0.6509 - val_loss: 0.7168 - val_accuracy: 0.8400\n",
      "1719/1719 [==============================] - 2s 1ms/step - loss: 1.4443 - accuracy: 0.6563 - val_loss: 0.6736 - val_accuracy: 0.8412\n",
      "1719/1719 [==============================] - 3s 2ms/step - loss: 1.3718 - accuracy: 0.6747 - val_loss: 0.6284 - val_accuracy: 0.8508\n",
      "1719/1719 [==============================] - 2s 1ms/step - loss: 1.4262 - accuracy: 0.6705 - val_loss: 0.6266 - val_accuracy: 0.8494\n",
      "1719/1719 [==============================] - 2s 1ms/step - loss: 1.3167 - accuracy: 0.6931 - val_loss: 0.5816 - val_accuracy: 0.8582\n",
      "1719/1719 [==============================] - 3s 1ms/step - loss: 1.3092 - accuracy: 0.6896 - val_loss: 0.5772 - val_accuracy: 0.8570\n",
      "1719/1719 [==============================] - 2s 1ms/step - loss: 1.2464 - accuracy: 0.7107 - val_loss: 0.5367 - val_accuracy: 0.8686\n",
      "1719/1719 [==============================] - 3s 1ms/step - loss: 1.2526 - accuracy: 0.7017 - val_loss: 0.5449 - val_accuracy: 0.8628\n",
      "1719/1719 [==============================] - 3s 1ms/step - loss: 1.2031 - accuracy: 0.6988 - val_loss: 0.5131 - val_accuracy: 0.8658\n",
      "1719/1719 [==============================] - 2s 1ms/step - loss: 1.2650 - accuracy: 0.6915 - val_loss: 0.5279 - val_accuracy: 0.8690\n",
      "1719/1719 [==============================] - 2s 1ms/step - loss: 1.1274 - accuracy: 0.7310 - val_loss: 0.4602 - val_accuracy: 0.8830\n",
      "1719/1719 [==============================] - 2s 1ms/step - loss: 1.0431 - accuracy: 0.7470 - val_loss: 0.4510 - val_accuracy: 0.8794\n",
      "1719/1719 [==============================] - 2s 1ms/step - loss: 1.1152 - accuracy: 0.7336 - val_loss: 0.4618 - val_accuracy: 0.8772\n",
      "1719/1719 [==============================] - 3s 2ms/step - loss: 1.0373 - accuracy: 0.7436 - val_loss: 0.4356 - val_accuracy: 0.8850\n",
      "1719/1719 [==============================] - 3s 1ms/step - loss: 1.0349 - accuracy: 0.7431 - val_loss: 0.4273 - val_accuracy: 0.8850\n",
      "1719/1719 [==============================] - 3s 1ms/step - loss: 0.9968 - accuracy: 0.7659 - val_loss: 0.4074 - val_accuracy: 0.8950\n",
      "1719/1719 [==============================] - 3s 1ms/step - loss: 0.9678 - accuracy: 0.7653 - val_loss: 0.3922 - val_accuracy: 0.8926\n",
      "1719/1719 [==============================] - 3s 1ms/step - loss: 0.9356 - accuracy: 0.7700 - val_loss: 0.3862 - val_accuracy: 0.8910\n",
      "1719/1719 [==============================] - 3s 2ms/step - loss: 0.8966 - accuracy: 0.7818 - val_loss: 0.3769 - val_accuracy: 0.8984\n",
      "1719/1719 [==============================] - 3s 1ms/step - loss: 0.8541 - accuracy: 0.7867 - val_loss: 0.3698 - val_accuracy: 0.8996\n",
      "1719/1719 [==============================] - 3s 1ms/step - loss: 0.8846 - accuracy: 0.7764 - val_loss: 0.3746 - val_accuracy: 0.8984\n",
      "1719/1719 [==============================] - 3s 1ms/step - loss: 0.8455 - accuracy: 0.7865 - val_loss: 0.3579 - val_accuracy: 0.9006\n",
      "1719/1719 [==============================] - 3s 1ms/step - loss: 0.8204 - accuracy: 0.7988 - val_loss: 0.3396 - val_accuracy: 0.9060\n",
      "1719/1719 [==============================] - 3s 1ms/step - loss: 0.8030 - accuracy: 0.7947 - val_loss: 0.3419 - val_accuracy: 0.9048\n",
      "1719/1719 [==============================] - 3s 2ms/step - loss: 0.7906 - accuracy: 0.7997 - val_loss: 0.3365 - val_accuracy: 0.9034\n",
      "1719/1719 [==============================] - 3s 1ms/step - loss: 0.7940 - accuracy: 0.7943 - val_loss: 0.3345 - val_accuracy: 0.9108\n",
      "1719/1719 [==============================] - 3s 1ms/step - loss: 0.7577 - accuracy: 0.8034 - val_loss: 0.3252 - val_accuracy: 0.9104\n",
      "1719/1719 [==============================] - 3s 1ms/step - loss: 0.7187 - accuracy: 0.8190 - val_loss: 0.3123 - val_accuracy: 0.9126\n",
      "1719/1719 [==============================] - 2s 1ms/step - loss: 0.6962 - accuracy: 0.8223 - val_loss: 0.3139 - val_accuracy: 0.9134\n",
      "1719/1719 [==============================] - 3s 2ms/step - loss: 0.6773 - accuracy: 0.8210 - val_loss: 0.2895 - val_accuracy: 0.9230\n",
      "1719/1719 [==============================] - 3s 1ms/step - loss: 0.6902 - accuracy: 0.8182 - val_loss: 0.3016 - val_accuracy: 0.9166\n",
      "1719/1719 [==============================] - 3s 1ms/step - loss: 0.6547 - accuracy: 0.8277 - val_loss: 0.2957 - val_accuracy: 0.9164\n",
      "1691/1719 [============================>.] - ETA: 0s - loss: 0.6518 - accuracy: 0.8299WARNING:tensorflow:Callbacks method `on_test_batch_end` is slow compared to the batch time (batch time: 0.0000s vs `on_test_batch_end` time: 0.0010s). Check your callbacks.\n",
      "1719/1719 [==============================] - 3s 1ms/step - loss: 0.6467 - accuracy: 0.8310 - val_loss: 0.2821 - val_accuracy: 0.9200\n",
      "1719/1719 [==============================] - 3s 1ms/step - loss: 0.6182 - accuracy: 0.8400 - val_loss: 0.2935 - val_accuracy: 0.9172\n",
      "1719/1719 [==============================] - 2s 1ms/step - loss: 0.6065 - accuracy: 0.8426 - val_loss: 0.2797 - val_accuracy: 0.9240\n",
      "1719/1719 [==============================] - 3s 1ms/step - loss: 0.6013 - accuracy: 0.8411 - val_loss: 0.2790 - val_accuracy: 0.9218\n",
      "1719/1719 [==============================] - 3s 1ms/step - loss: 0.5849 - accuracy: 0.8440 - val_loss: 0.2738 - val_accuracy: 0.9216\n",
      "1719/1719 [==============================] - 3s 1ms/step - loss: 0.5681 - accuracy: 0.8487 - val_loss: 0.2683 - val_accuracy: 0.9284\n",
      "1719/1719 [==============================] - 2s 1ms/step - loss: 0.5534 - accuracy: 0.8555 - val_loss: 0.2567 - val_accuracy: 0.9254\n",
      "1719/1719 [==============================] - 3s 2ms/step - loss: 0.5371 - accuracy: 0.8536 - val_loss: 0.2578 - val_accuracy: 0.9272\n",
      "1719/1719 [==============================] - 3s 2ms/step - loss: 0.5498 - accuracy: 0.8522 - val_loss: 0.2599 - val_accuracy: 0.9234\n",
      "1719/1719 [==============================] - 3s 2ms/step - loss: 0.5207 - accuracy: 0.8615 - val_loss: 0.2538 - val_accuracy: 0.9278\n",
      "1719/1719 [==============================] - 3s 1ms/step - loss: 0.5190 - accuracy: 0.8609 - val_loss: 0.2495 - val_accuracy: 0.9308\n",
      "1719/1719 [==============================] - 3s 1ms/step - loss: 0.5030 - accuracy: 0.8631 - val_loss: 0.2537 - val_accuracy: 0.9284\n",
      "1719/1719 [==============================] - 2s 1ms/step - loss: 0.4993 - accuracy: 0.8655 - val_loss: 0.2514 - val_accuracy: 0.9300\n",
      "1719/1719 [==============================] - 3s 2ms/step - loss: 0.4811 - accuracy: 0.8690 - val_loss: 0.2384 - val_accuracy: 0.9318\n"
     ]
    },
    {
     "name": "stdout",
     "output_type": "stream",
     "text": [
      "1719/1719 [==============================] - 3s 1ms/step - loss: 0.4780 - accuracy: 0.8678 - val_loss: 0.2243 - val_accuracy: 0.9398\n",
      "1719/1719 [==============================] - 3s 1ms/step - loss: 0.4643 - accuracy: 0.8712 - val_loss: 0.2141 - val_accuracy: 0.9390\n",
      "1719/1719 [==============================] - 3s 1ms/step - loss: 0.4786 - accuracy: 0.8644 - val_loss: 0.2379 - val_accuracy: 0.9336\n",
      "1719/1719 [==============================] - 3s 1ms/step - loss: 0.4491 - accuracy: 0.8742 - val_loss: 0.2146 - val_accuracy: 0.9398\n",
      "1719/1719 [==============================] - 3s 1ms/step - loss: 0.4337 - accuracy: 0.8800 - val_loss: 0.2410 - val_accuracy: 0.9308\n",
      "1719/1719 [==============================] - 3s 2ms/step - loss: 0.4275 - accuracy: 0.8801 - val_loss: 0.2072 - val_accuracy: 0.9422\n",
      "1719/1719 [==============================] - 3s 1ms/step - loss: 0.4216 - accuracy: 0.8811 - val_loss: 0.2158 - val_accuracy: 0.9368\n",
      "1719/1719 [==============================] - 3s 1ms/step - loss: 0.4139 - accuracy: 0.8827 - val_loss: 0.1902 - val_accuracy: 0.9470\n",
      "1719/1719 [==============================] - 3s 1ms/step - loss: 0.3986 - accuracy: 0.8860 - val_loss: 0.1874 - val_accuracy: 0.9472\n",
      "1719/1719 [==============================] - 3s 1ms/step - loss: 0.3977 - accuracy: 0.8873 - val_loss: 0.1977 - val_accuracy: 0.9438\n",
      "1719/1719 [==============================] - 3s 2ms/step - loss: 0.3847 - accuracy: 0.8896 - val_loss: 0.1802 - val_accuracy: 0.9474\n",
      "1719/1719 [==============================] - 3s 1ms/step - loss: 0.3821 - accuracy: 0.8923 - val_loss: 0.1770 - val_accuracy: 0.9502\n",
      "1719/1719 [==============================] - 3s 2ms/step - loss: 0.3760 - accuracy: 0.8921 - val_loss: 0.1808 - val_accuracy: 0.9472\n",
      "1719/1719 [==============================] - 3s 1ms/step - loss: 0.3737 - accuracy: 0.8919 - val_loss: 0.1621 - val_accuracy: 0.9554\n",
      "1719/1719 [==============================] - 3s 1ms/step - loss: 0.3648 - accuracy: 0.8954 - val_loss: 0.1667 - val_accuracy: 0.9522\n",
      "1719/1719 [==============================] - 3s 2ms/step - loss: 0.3611 - accuracy: 0.8952 - val_loss: 0.1669 - val_accuracy: 0.9498\n",
      "1719/1719 [==============================] - 3s 1ms/step - loss: 0.3440 - accuracy: 0.9009 - val_loss: 0.1610 - val_accuracy: 0.9546\n",
      "1719/1719 [==============================] - 3s 1ms/step - loss: 0.3433 - accuracy: 0.9009 - val_loss: 0.1643 - val_accuracy: 0.9546\n",
      "1719/1719 [==============================] - 3s 1ms/step - loss: 0.3392 - accuracy: 0.9024 - val_loss: 0.1973 - val_accuracy: 0.9414\n",
      "1719/1719 [==============================] - 3s 1ms/step - loss: 0.3338 - accuracy: 0.9020 - val_loss: 0.1800 - val_accuracy: 0.9470\n",
      "1719/1719 [==============================] - 3s 1ms/step - loss: 0.3312 - accuracy: 0.9019 - val_loss: 0.1640 - val_accuracy: 0.9536\n",
      "1719/1719 [==============================] - 3s 2ms/step - loss: 0.3233 - accuracy: 0.9042 - val_loss: 0.1598 - val_accuracy: 0.9522\n",
      "1719/1719 [==============================] - 3s 1ms/step - loss: 0.3127 - accuracy: 0.9066 - val_loss: 0.1459 - val_accuracy: 0.9578\n",
      "1719/1719 [==============================] - 3s 1ms/step - loss: 0.3171 - accuracy: 0.9047 - val_loss: 0.1554 - val_accuracy: 0.9526\n",
      "1719/1719 [==============================] - 3s 1ms/step - loss: 0.3062 - accuracy: 0.9090 - val_loss: 0.1348 - val_accuracy: 0.9620\n",
      "1719/1719 [==============================] - 3s 2ms/step - loss: 0.3034 - accuracy: 0.9082 - val_loss: 0.1265 - val_accuracy: 0.9632\n",
      "1719/1719 [==============================] - 3s 2ms/step - loss: 0.3017 - accuracy: 0.9101 - val_loss: 0.1423 - val_accuracy: 0.9592\n",
      "1719/1719 [==============================] - 3s 1ms/step - loss: 0.2886 - accuracy: 0.9131 - val_loss: 0.1360 - val_accuracy: 0.9580\n",
      "1719/1719 [==============================] - 3s 2ms/step - loss: 0.2886 - accuracy: 0.9128 - val_loss: 0.1280 - val_accuracy: 0.9630\n",
      "1719/1719 [==============================] - 3s 2ms/step - loss: 0.2810 - accuracy: 0.9149 - val_loss: 0.1226 - val_accuracy: 0.9650\n",
      "1719/1719 [==============================] - 3s 2ms/step - loss: 0.2779 - accuracy: 0.9141 - val_loss: 0.1190 - val_accuracy: 0.9664\n",
      "1719/1719 [==============================] - 3s 2ms/step - loss: 0.2811 - accuracy: 0.9154 - val_loss: 0.1772 - val_accuracy: 0.9442\n",
      "1719/1719 [==============================] - 3s 1ms/step - loss: 0.2682 - accuracy: 0.9187 - val_loss: 0.1194 - val_accuracy: 0.9666\n",
      "1719/1719 [==============================] - 3s 2ms/step - loss: 0.2670 - accuracy: 0.9188 - val_loss: 0.1320 - val_accuracy: 0.9610\n",
      "1719/1719 [==============================] - 3s 2ms/step - loss: 0.2723 - accuracy: 0.9170 - val_loss: 0.1373 - val_accuracy: 0.9556\n",
      "1719/1719 [==============================] - 3s 2ms/step - loss: 0.2635 - accuracy: 0.9197 - val_loss: 0.1114 - val_accuracy: 0.9678\n",
      "1719/1719 [==============================] - 3s 2ms/step - loss: 0.2690 - accuracy: 0.9185 - val_loss: 0.1324 - val_accuracy: 0.9618\n",
      "1719/1719 [==============================] - 3s 2ms/step - loss: 0.2588 - accuracy: 0.9200 - val_loss: 0.1119 - val_accuracy: 0.9686\n",
      "1719/1719 [==============================] - 3s 2ms/step - loss: 0.2588 - accuracy: 0.9183 - val_loss: 0.1176 - val_accuracy: 0.9658\n",
      "1719/1719 [==============================] - 3s 2ms/step - loss: 0.2519 - accuracy: 0.9230 - val_loss: 0.1083 - val_accuracy: 0.9692\n",
      "1719/1719 [==============================] - 3s 2ms/step - loss: 0.2520 - accuracy: 0.9230 - val_loss: 0.1370 - val_accuracy: 0.9584\n",
      "1719/1719 [==============================] - 3s 2ms/step - loss: 0.2560 - accuracy: 0.9204 - val_loss: 0.1070 - val_accuracy: 0.9688\n",
      "1719/1719 [==============================] - 3s 2ms/step - loss: 0.2534 - accuracy: 0.9220 - val_loss: 0.1566 - val_accuracy: 0.9528\n",
      "1719/1719 [==============================] - 3s 2ms/step - loss: 0.2529 - accuracy: 0.9222 - val_loss: 0.2853 - val_accuracy: 0.9090\n",
      "1719/1719 [==============================] - 3s 2ms/step - loss: 0.2508 - accuracy: 0.9216 - val_loss: 0.1116 - val_accuracy: 0.9674\n",
      "1719/1719 [==============================] - 3s 2ms/step - loss: 0.2426 - accuracy: 0.9242 - val_loss: 0.1612 - val_accuracy: 0.9532\n",
      "1719/1719 [==============================] - 3s 2ms/step - loss: 0.2486 - accuracy: 0.9229 - val_loss: 0.1052 - val_accuracy: 0.9672\n",
      "1719/1719 [==============================] - 3s 2ms/step - loss: 0.2479 - accuracy: 0.9223 - val_loss: 0.1188 - val_accuracy: 0.9630\n",
      "1719/1719 [==============================] - 3s 2ms/step - loss: 0.2458 - accuracy: 0.9233 - val_loss: 0.1019 - val_accuracy: 0.9686\n",
      "1719/1719 [==============================] - 3s 2ms/step - loss: 0.2526 - accuracy: 0.9214 - val_loss: 0.1258 - val_accuracy: 0.9662\n",
      "1719/1719 [==============================] - 3s 2ms/step - loss: 0.2456 - accuracy: 0.9244 - val_loss: 0.1055 - val_accuracy: 0.9696\n",
      "1719/1719 [==============================] - 3s 2ms/step - loss: 0.2486 - accuracy: 0.9221 - val_loss: 0.1122 - val_accuracy: 0.9650\n",
      "1719/1719 [==============================] - 3s 2ms/step - loss: 0.2486 - accuracy: 0.9229 - val_loss: 0.1327 - val_accuracy: 0.9626\n",
      "1719/1719 [==============================] - 3s 1ms/step - loss: 0.2612 - accuracy: 0.9185 - val_loss: 0.1168 - val_accuracy: 0.9664\n",
      "1719/1719 [==============================] - 3s 1ms/step - loss: 0.2563 - accuracy: 0.9204 - val_loss: 0.1795 - val_accuracy: 0.9482\n",
      "1719/1719 [==============================] - 3s 2ms/step - loss: 0.2520 - accuracy: 0.9219 - val_loss: 0.1391 - val_accuracy: 0.9578\n",
      "1719/1719 [==============================] - 3s 2ms/step - loss: 0.2563 - accuracy: 0.9214 - val_loss: 0.3408 - val_accuracy: 0.9038\n",
      "1719/1719 [==============================] - 3s 2ms/step - loss: 0.2597 - accuracy: 0.9202 - val_loss: 0.1404 - val_accuracy: 0.9542\n",
      "1719/1719 [==============================] - 3s 2ms/step - loss: 0.2540 - accuracy: 0.9213 - val_loss: 0.0956 - val_accuracy: 0.9726\n",
      "1719/1719 [==============================] - 3s 2ms/step - loss: 0.2815 - accuracy: 0.9133 - val_loss: 0.1118 - val_accuracy: 0.9688\n",
      "1719/1719 [==============================] - 3s 2ms/step - loss: 0.2592 - accuracy: 0.9208 - val_loss: 0.1288 - val_accuracy: 0.9620\n",
      "1719/1719 [==============================] - 3s 2ms/step - loss: 0.2718 - accuracy: 0.9159 - val_loss: 0.1161 - val_accuracy: 0.9654\n",
      "1719/1719 [==============================] - 3s 2ms/step - loss: 0.2859 - accuracy: 0.9123 - val_loss: 0.1782 - val_accuracy: 0.9504\n",
      "1719/1719 [==============================] - 3s 2ms/step - loss: 0.3149 - accuracy: 0.9034 - val_loss: 0.1137 - val_accuracy: 0.9666\n",
      "1719/1719 [==============================] - 3s 1ms/step - loss: 0.2783 - accuracy: 0.9148 - val_loss: 0.1125 - val_accuracy: 0.9672\n",
      "1719/1719 [==============================] - 3s 2ms/step - loss: 0.3102 - accuracy: 0.9063 - val_loss: 0.1336 - val_accuracy: 0.9628\n",
      "1719/1719 [==============================] - 3s 2ms/step - loss: 0.3062 - accuracy: 0.9077 - val_loss: 0.1606 - val_accuracy: 0.9560\n",
      "1719/1719 [==============================] - 3s 2ms/step - loss: 0.3050 - accuracy: 0.9090 - val_loss: 0.1227 - val_accuracy: 0.9636\n",
      "1719/1719 [==============================] - 3s 2ms/step - loss: 0.3898 - accuracy: 0.8852 - val_loss: 0.1442 - val_accuracy: 0.9592\n",
      "1719/1719 [==============================] - 3s 2ms/step - loss: 0.3472 - accuracy: 0.8948 - val_loss: 0.1306 - val_accuracy: 0.9650\n",
      "1719/1719 [==============================] - 3s 2ms/step - loss: 0.3286 - accuracy: 0.8997 - val_loss: 0.1354 - val_accuracy: 0.9632\n",
      "1719/1719 [==============================] - 3s 2ms/step - loss: 0.3518 - accuracy: 0.8952 - val_loss: 0.1956 - val_accuracy: 0.9492\n",
      "1719/1719 [==============================] - 3s 2ms/step - loss: 0.5653 - accuracy: 0.8346 - val_loss: 0.1931 - val_accuracy: 0.9468\n",
      "1719/1719 [==============================] - 3s 2ms/step - loss: 0.3697 - accuracy: 0.8897 - val_loss: 0.1890 - val_accuracy: 0.9462\n",
      "1719/1719 [==============================] - 3s 2ms/step - loss: 0.5027 - accuracy: 0.8502 - val_loss: 0.2360 - val_accuracy: 0.9210\n",
      "1719/1719 [==============================] - 3s 2ms/step - loss: 0.4763 - accuracy: 0.8581 - val_loss: 0.1957 - val_accuracy: 0.9444\n",
      "1719/1719 [==============================] - 3s 2ms/step - loss: nan - accuracy: 0.1014 - val_loss: nan - val_accuracy: 0.0958\n",
      "1719/1719 [==============================] - 3s 2ms/step - loss: 0.6157 - accuracy: 0.8107 - val_loss: 0.2451 - val_accuracy: 0.9376\n",
      "1719/1719 [==============================] - 3s 2ms/step - loss: nan - accuracy: 0.1100 - val_loss: nan - val_accuracy: 0.0958\n",
      "1719/1719 [==============================] - 3s 2ms/step - loss: 0.7041 - accuracy: 0.7844 - val_loss: 0.4407 - val_accuracy: 0.8974\n",
      "1719/1719 [==============================] - 3s 2ms/step - loss: 0.7469 - accuracy: 0.7684 - val_loss: 0.2829 - val_accuracy: 0.9272\n",
      "1719/1719 [==============================] - 3s 2ms/step - loss: 0.9187 - accuracy: 0.7177 - val_loss: 0.4379 - val_accuracy: 0.8918\n"
     ]
    }
   ],
   "source": [
    "my_learning_rate = 1e-3\n",
    "rates = []\n",
    "losses = []\n",
    "while my_learning_rate <= 1:\n",
    "    model = build_model(n_hidden=3, n_neurons=300, learning_rate=my_learning_rate)\n",
    "    history = model.fit(X_train, y_train, epochs=1,\n",
    "              validation_data=(X_valid, y_valid))\n",
    "    rates.append(my_learning_rate)\n",
    "    losses.append(history.history['loss'][0])\n",
    "    my_learning_rate = my_learning_rate*1.05    "
   ]
  },
  {
   "cell_type": "code",
   "execution_count": 18,
   "metadata": {
    "scrolled": true
   },
   "outputs": [
    {
     "data": {
      "text/plain": [
       "Text(0, 0.5, 'Loss')"
      ]
     },
     "execution_count": 18,
     "metadata": {},
     "output_type": "execute_result"
    },
    {
     "data": {
      "image/png": "[encoded data removed]",
      "text/plain": [
       "<Figure size 432x288 with 1 Axes>"
      ]
     },
     "metadata": {
      "needs_background": "light"
     },
     "output_type": "display_data"
    }
   ],
   "source": [
    "plt.plot(rates, losses)\n",
    "plt.gca().set_xscale('log')\n",
    "plt.xlabel(\"Learning rate\")\n",
    "plt.ylabel(\"Loss\")"
   ]
  },
  {
   "cell_type": "markdown",
   "metadata": {},
   "source": [
    "En este caso se ha escogido un learning rate de 0.1"
   ]
  },
  {
   "cell_type": "code",
   "execution_count": 12,
   "metadata": {},
   "outputs": [
    {
     "name": "stdout",
     "output_type": "stream",
     "text": [
      "Epoch 1/100\n",
      "   1/1719 [..............................] - ETA: 0s - loss: 2.3006 - accuracy: 0.0625WARNING:tensorflow:From C:\\Users\\user\\anaconda3\\lib\\site-packages\\tensorflow\\python\\ops\\summary_ops_v2.py:1277: stop (from tensorflow.python.eager.profiler) is deprecated and will be removed after 2020-07-01.\n",
      "Instructions for updating:\n",
      "use `tf.profiler.experimental.stop` instead.\n",
      "   2/1719 [..............................] - ETA: 11:22 - loss: 2.2985 - accuracy: 0.0938WARNING:tensorflow:Callbacks method `on_train_batch_end` is slow compared to the batch time (batch time: 0.0522s vs `on_train_batch_end` time: 0.7366s). Check your callbacks.\n",
      "1719/1719 [==============================] - 4s 2ms/step - loss: 0.2637 - accuracy: 0.9188 - val_loss: 0.1667 - val_accuracy: 0.9486\n",
      "Epoch 2/100\n",
      "1719/1719 [==============================] - 3s 2ms/step - loss: 0.1017 - accuracy: 0.9681 - val_loss: 0.0938 - val_accuracy: 0.9716\n",
      "Epoch 3/100\n",
      "1719/1719 [==============================] - 3s 2ms/step - loss: 0.0685 - accuracy: 0.9789 - val_loss: 0.0847 - val_accuracy: 0.9732\n",
      "Epoch 4/100\n",
      "1719/1719 [==============================] - 3s 1ms/step - loss: 0.0509 - accuracy: 0.9836 - val_loss: 0.0795 - val_accuracy: 0.9768\n",
      "Epoch 5/100\n",
      "1719/1719 [==============================] - 3s 2ms/step - loss: 0.0369 - accuracy: 0.9877 - val_loss: 0.0712 - val_accuracy: 0.9798\n",
      "Epoch 6/100\n",
      "1719/1719 [==============================] - 2s 1ms/step - loss: 0.0280 - accuracy: 0.9907 - val_loss: 0.1017 - val_accuracy: 0.9742\n",
      "Epoch 7/100\n",
      "1719/1719 [==============================] - 3s 1ms/step - loss: 0.0219 - accuracy: 0.9928 - val_loss: 0.0645 - val_accuracy: 0.9812\n",
      "Epoch 8/100\n",
      "1719/1719 [==============================] - 2s 1ms/step - loss: 0.0156 - accuracy: 0.9949 - val_loss: 0.0654 - val_accuracy: 0.9844\n",
      "Epoch 9/100\n",
      "1719/1719 [==============================] - 3s 1ms/step - loss: 0.0109 - accuracy: 0.9966 - val_loss: 0.0730 - val_accuracy: 0.9816\n",
      "Epoch 10/100\n",
      "1719/1719 [==============================] - 2s 1ms/step - loss: 0.0082 - accuracy: 0.9977 - val_loss: 0.0960 - val_accuracy: 0.9782\n",
      "Epoch 11/100\n",
      "1719/1719 [==============================] - 3s 1ms/step - loss: 0.0043 - accuracy: 0.9989 - val_loss: 0.0717 - val_accuracy: 0.9848\n",
      "Epoch 12/100\n",
      "1719/1719 [==============================] - 3s 1ms/step - loss: 0.0022 - accuracy: 0.9995 - val_loss: 0.0830 - val_accuracy: 0.9824\n",
      "Epoch 13/100\n",
      "1719/1719 [==============================] - 3s 1ms/step - loss: 0.0022 - accuracy: 0.9995 - val_loss: 0.0730 - val_accuracy: 0.9850\n",
      "Epoch 14/100\n",
      "1719/1719 [==============================] - 3s 1ms/step - loss: 9.2822e-04 - accuracy: 0.9999 - val_loss: 0.0736 - val_accuracy: 0.9864\n",
      "Epoch 15/100\n",
      "1719/1719 [==============================] - 3s 1ms/step - loss: 2.8053e-04 - accuracy: 1.0000 - val_loss: 0.0757 - val_accuracy: 0.9856\n",
      "Epoch 16/100\n",
      "1719/1719 [==============================] - 3s 2ms/step - loss: 2.1193e-04 - accuracy: 1.0000 - val_loss: 0.0763 - val_accuracy: 0.9860\n",
      "Epoch 17/100\n",
      "1719/1719 [==============================] - 3s 1ms/step - loss: 1.7751e-04 - accuracy: 1.0000 - val_loss: 0.0779 - val_accuracy: 0.9862\n",
      "Epoch 18/100\n",
      "1719/1719 [==============================] - 3s 2ms/step - loss: 1.5438e-04 - accuracy: 1.0000 - val_loss: 0.0783 - val_accuracy: 0.9870\n",
      "Epoch 19/100\n",
      "1719/1719 [==============================] - 3s 1ms/step - loss: 1.3710e-04 - accuracy: 1.0000 - val_loss: 0.0793 - val_accuracy: 0.9870\n",
      "Epoch 20/100\n",
      "1719/1719 [==============================] - 3s 1ms/step - loss: 1.2442e-04 - accuracy: 1.0000 - val_loss: 0.0796 - val_accuracy: 0.9866\n",
      "Epoch 21/100\n",
      "1719/1719 [==============================] - 3s 1ms/step - loss: 1.1432e-04 - accuracy: 1.0000 - val_loss: 0.0806 - val_accuracy: 0.9868\n",
      "Epoch 22/100\n",
      "1719/1719 [==============================] - 3s 2ms/step - loss: 1.0559e-04 - accuracy: 1.0000 - val_loss: 0.0816 - val_accuracy: 0.9864\n",
      "Epoch 23/100\n",
      "1719/1719 [==============================] - 3s 1ms/step - loss: 9.7853e-05 - accuracy: 1.0000 - val_loss: 0.0821 - val_accuracy: 0.9864\n",
      "Epoch 24/100\n",
      "1719/1719 [==============================] - 3s 1ms/step - loss: 9.1605e-05 - accuracy: 1.0000 - val_loss: 0.0827 - val_accuracy: 0.9862\n",
      "Epoch 25/100\n",
      "1719/1719 [==============================] - 2s 1ms/step - loss: 8.6121e-05 - accuracy: 1.0000 - val_loss: 0.0828 - val_accuracy: 0.9864\n",
      "Epoch 26/100\n",
      "1719/1719 [==============================] - 3s 1ms/step - loss: 8.1294e-05 - accuracy: 1.0000 - val_loss: 0.0836 - val_accuracy: 0.9862\n",
      "Epoch 27/100\n",
      "1719/1719 [==============================] - 2s 1ms/step - loss: 7.6689e-05 - accuracy: 1.0000 - val_loss: 0.0839 - val_accuracy: 0.9868\n"
     ]
    }
   ],
   "source": [
    "run_logdir = os.path.join('three_layer_model',get_run_logdir())\n",
    "\n",
    "tensorboard_cb = keras.callbacks.TensorBoard(run_logdir)\n",
    "\n",
    "checkpoint_cb = keras.callbacks.ModelCheckpoint(\"three_layer_model.h5\",\n",
    "                                                save_best_only=True)\n",
    "\n",
    "early_stopping_cb = keras.callbacks.EarlyStopping(patience=20,\n",
    "                                                  restore_best_weights=True)\n",
    "\n",
    "three_layer_model = build_model(n_hidden=3, n_neurons=300, learning_rate=0.1)\n",
    "three_layer_history = three_layer_model.fit(X_train, y_train, epochs=100,\n",
    "              validation_data=(X_valid, y_valid),\n",
    "                    callbacks=[checkpoint_cb, early_stopping_cb, tensorboard_cb])"
   ]
  },
  {
   "cell_type": "code",
   "execution_count": 28,
   "metadata": {
    "scrolled": true
   },
   "outputs": [
    {
     "name": "stdout",
     "output_type": "stream",
     "text": [
      "313/313 [==============================] - 0s 701us/step - loss: 0.0658 - accuracy: 0.9804\n"
     ]
    }
   ],
   "source": [
    "loss_3l, accuracy_3l = three_layer_model.evaluate(X_test, y_test)"
   ]
  },
  {
   "cell_type": "markdown",
   "metadata": {},
   "source": [
    "De nuevo se obtiene una exactitud de aproximadamente 98%"
   ]
  },
  {
   "cell_type": "code",
   "execution_count": 14,
   "metadata": {},
   "outputs": [
    {
     "data": {
      "image/png": "[encoded data removed]",
      "text/plain": [
       "<Figure size 576x360 with 1 Axes>"
      ]
     },
     "metadata": {
      "needs_background": "light"
     },
     "output_type": "display_data"
    }
   ],
   "source": [
    "plot_accuracy_loss(three_layer_history)"
   ]
  },
  {
   "cell_type": "code",
   "execution_count": 15,
   "metadata": {},
   "outputs": [
    {
     "data": {
      "image/png": "[encoded data removed]",
      "text/plain": [
       "<Figure size 288x288 with 1 Axes>"
      ]
     },
     "metadata": {
      "needs_background": "light"
     },
     "output_type": "display_data"
    }
   ],
   "source": [
    "y_pred = three_layer_model.predict(X_test)\n",
    "plot_conf_mx(y_pred)"
   ]
  },
  {
   "cell_type": "markdown",
   "metadata": {},
   "source": [
    "## 4 capas ocultas"
   ]
  },
  {
   "cell_type": "markdown",
   "metadata": {},
   "source": [
    "Se repite el mismo proceso para el modelo de 4 capas ocultas."
   ]
  },
  {
   "cell_type": "code",
   "execution_count": 23,
   "metadata": {},
   "outputs": [
    {
     "name": "stdout",
     "output_type": "stream",
     "text": [
      "1719/1719 [==============================] - 3s 2ms/step - loss: 2.0836 - accuracy: 0.4659 - val_loss: 1.6900 - val_accuracy: 0.6898\n",
      "1719/1719 [==============================] - 3s 2ms/step - loss: 2.0702 - accuracy: 0.4528 - val_loss: 1.6651 - val_accuracy: 0.7342\n",
      "1719/1719 [==============================] - 3s 2ms/step - loss: 2.0366 - accuracy: 0.4694 - val_loss: 1.5391 - val_accuracy: 0.7192\n",
      "1719/1719 [==============================] - 3s 2ms/step - loss: 2.0448 - accuracy: 0.4575 - val_loss: 1.5439 - val_accuracy: 0.6676\n",
      "1719/1719 [==============================] - 3s 2ms/step - loss: 1.9238 - accuracy: 0.5501 - val_loss: 1.2680 - val_accuracy: 0.7580\n",
      "1719/1719 [==============================] - 3s 2ms/step - loss: 1.9285 - accuracy: 0.5268 - val_loss: 1.2909 - val_accuracy: 0.7514\n",
      "1719/1719 [==============================] - 3s 2ms/step - loss: 1.9677 - accuracy: 0.4678 - val_loss: 1.3258 - val_accuracy: 0.7482\n",
      "1719/1719 [==============================] - 3s 2ms/step - loss: 1.8220 - accuracy: 0.5469 - val_loss: 1.0763 - val_accuracy: 0.7834\n",
      "1719/1719 [==============================] - 3s 2ms/step - loss: 1.7844 - accuracy: 0.5344 - val_loss: 1.0097 - val_accuracy: 0.7968\n",
      "1719/1719 [==============================] - 3s 2ms/step - loss: 1.8915 - accuracy: 0.5165 - val_loss: 1.1509 - val_accuracy: 0.7834\n",
      "1719/1719 [==============================] - 3s 2ms/step - loss: 1.7724 - accuracy: 0.5554 - val_loss: 0.9563 - val_accuracy: 0.7868\n",
      "1719/1719 [==============================] - 3s 2ms/step - loss: 1.8004 - accuracy: 0.5862 - val_loss: 0.9584 - val_accuracy: 0.8058\n",
      "1719/1719 [==============================] - 3s 2ms/step - loss: 1.6978 - accuracy: 0.6111 - val_loss: 0.8293 - val_accuracy: 0.8144\n",
      "1719/1719 [==============================] - 3s 2ms/step - loss: 1.6269 - accuracy: 0.5807 - val_loss: 0.7353 - val_accuracy: 0.8354\n",
      "1719/1719 [==============================] - 3s 2ms/step - loss: 1.5771 - accuracy: 0.6015 - val_loss: 0.7305 - val_accuracy: 0.8142\n",
      "1719/1719 [==============================] - 3s 2ms/step - loss: 1.5437 - accuracy: 0.6215 - val_loss: 0.6766 - val_accuracy: 0.8406\n",
      "1719/1719 [==============================] - 3s 2ms/step - loss: 1.5657 - accuracy: 0.6055 - val_loss: 0.6806 - val_accuracy: 0.8344\n",
      "1719/1719 [==============================] - 3s 2ms/step - loss: 1.5101 - accuracy: 0.6215 - val_loss: 0.6323 - val_accuracy: 0.8458\n",
      "1719/1719 [==============================] - 3s 2ms/step - loss: 1.5322 - accuracy: 0.5999 - val_loss: 0.6747 - val_accuracy: 0.8354\n",
      "1719/1719 [==============================] - 3s 2ms/step - loss: 1.4428 - accuracy: 0.6523 - val_loss: 0.5861 - val_accuracy: 0.8500\n",
      "1719/1719 [==============================] - 3s 2ms/step - loss: 1.3613 - accuracy: 0.6577 - val_loss: 0.5587 - val_accuracy: 0.8530\n",
      "1719/1719 [==============================] - 3s 2ms/step - loss: 1.3409 - accuracy: 0.6773 - val_loss: 0.5250 - val_accuracy: 0.8610\n",
      "1719/1719 [==============================] - 3s 2ms/step - loss: 1.2642 - accuracy: 0.6777 - val_loss: 0.5030 - val_accuracy: 0.8694\n",
      "1719/1719 [==============================] - 3s 2ms/step - loss: 1.3124 - accuracy: 0.6543 - val_loss: 0.5289 - val_accuracy: 0.8676\n",
      "1719/1719 [==============================] - 3s 2ms/step - loss: 1.2204 - accuracy: 0.6934 - val_loss: 0.4699 - val_accuracy: 0.8760\n",
      "1719/1719 [==============================] - 3s 2ms/step - loss: 1.1913 - accuracy: 0.7116 - val_loss: 0.4385 - val_accuracy: 0.8806\n",
      "1719/1719 [==============================] - 3s 2ms/step - loss: 1.1844 - accuracy: 0.6996 - val_loss: 0.4418 - val_accuracy: 0.8804\n",
      "1719/1719 [==============================] - 3s 2ms/step - loss: 1.1645 - accuracy: 0.6995 - val_loss: 0.4382 - val_accuracy: 0.8802\n",
      "1719/1719 [==============================] - 3s 2ms/step - loss: 1.1149 - accuracy: 0.7153 - val_loss: 0.4109 - val_accuracy: 0.8892\n",
      "1719/1719 [==============================] - 3s 2ms/step - loss: 1.1501 - accuracy: 0.7121 - val_loss: 0.4141 - val_accuracy: 0.8918\n",
      "1719/1719 [==============================] - 3s 2ms/step - loss: 1.0645 - accuracy: 0.7340 - val_loss: 0.4035 - val_accuracy: 0.8910\n",
      "1719/1719 [==============================] - 3s 2ms/step - loss: 0.9968 - accuracy: 0.7423 - val_loss: 0.3735 - val_accuracy: 0.8978\n",
      "1719/1719 [==============================] - 3s 2ms/step - loss: 0.9280 - accuracy: 0.7730 - val_loss: 0.3698 - val_accuracy: 0.8964\n",
      "1719/1719 [==============================] - 3s 2ms/step - loss: 0.9841 - accuracy: 0.7480 - val_loss: 0.3678 - val_accuracy: 0.8946\n",
      "1719/1719 [==============================] - 3s 2ms/step - loss: 0.9431 - accuracy: 0.7524 - val_loss: 0.3568 - val_accuracy: 0.8994\n",
      "1719/1719 [==============================] - 3s 2ms/step - loss: 0.9393 - accuracy: 0.7497 - val_loss: 0.3569 - val_accuracy: 0.8958\n",
      "1719/1719 [==============================] - 3s 2ms/step - loss: 0.9084 - accuracy: 0.7675 - val_loss: 0.3350 - val_accuracy: 0.9098\n",
      "1719/1719 [==============================] - 3s 2ms/step - loss: 0.7786 - accuracy: 0.7946 - val_loss: 0.3207 - val_accuracy: 0.9078\n",
      "1719/1719 [==============================] - 3s 2ms/step - loss: 0.8200 - accuracy: 0.7920 - val_loss: 0.3238 - val_accuracy: 0.9034\n",
      "1719/1719 [==============================] - 3s 2ms/step - loss: 0.8717 - accuracy: 0.7756 - val_loss: 0.3234 - val_accuracy: 0.9136\n",
      "1719/1719 [==============================] - 3s 2ms/step - loss: 0.8247 - accuracy: 0.7895 - val_loss: 0.3083 - val_accuracy: 0.9150\n",
      "1719/1719 [==============================] - 3s 2ms/step - loss: 0.7777 - accuracy: 0.7900 - val_loss: 0.3028 - val_accuracy: 0.9152\n",
      "1719/1719 [==============================] - 3s 2ms/step - loss: 0.7442 - accuracy: 0.8064 - val_loss: 0.3124 - val_accuracy: 0.9116\n",
      "1719/1719 [==============================] - 3s 2ms/step - loss: 0.7276 - accuracy: 0.8067 - val_loss: 0.3011 - val_accuracy: 0.9130\n",
      "1719/1719 [==============================] - 3s 2ms/step - loss: 0.6996 - accuracy: 0.8079 - val_loss: 0.2810 - val_accuracy: 0.9214\n",
      "1719/1719 [==============================] - 3s 2ms/step - loss: 0.6775 - accuracy: 0.8162 - val_loss: 0.2804 - val_accuracy: 0.9220\n",
      "1719/1719 [==============================] - 3s 2ms/step - loss: 0.6599 - accuracy: 0.8182 - val_loss: 0.2795 - val_accuracy: 0.9202\n",
      "1719/1719 [==============================] - 3s 2ms/step - loss: 0.6494 - accuracy: 0.8222 - val_loss: 0.2694 - val_accuracy: 0.9226\n",
      "1719/1719 [==============================] - 3s 2ms/step - loss: 0.6379 - accuracy: 0.8231 - val_loss: 0.2834 - val_accuracy: 0.9190\n",
      "1719/1719 [==============================] - 3s 2ms/step - loss: 0.6270 - accuracy: 0.8352 - val_loss: 0.2625 - val_accuracy: 0.9288\n",
      "1719/1719 [==============================] - 3s 2ms/step - loss: 0.6100 - accuracy: 0.8364 - val_loss: 0.2648 - val_accuracy: 0.9228\n",
      "1719/1719 [==============================] - 4s 2ms/step - loss: 0.5750 - accuracy: 0.8439 - val_loss: 0.2746 - val_accuracy: 0.9238\n",
      "1719/1719 [==============================] - 4s 2ms/step - loss: 0.6051 - accuracy: 0.8338 - val_loss: 0.2449 - val_accuracy: 0.9316\n",
      "1719/1719 [==============================] - 3s 2ms/step - loss: 0.5672 - accuracy: 0.8444 - val_loss: 0.2513 - val_accuracy: 0.9296\n",
      "1719/1719 [==============================] - 4s 2ms/step - loss: 0.5431 - accuracy: 0.8496 - val_loss: 0.2363 - val_accuracy: 0.9348\n",
      "1719/1719 [==============================] - 4s 2ms/step - loss: 0.5413 - accuracy: 0.8481 - val_loss: 0.2298 - val_accuracy: 0.9376\n",
      "1719/1719 [==============================] - 4s 2ms/step - loss: 0.5371 - accuracy: 0.8489 - val_loss: 0.2312 - val_accuracy: 0.9356\n",
      "1719/1719 [==============================] - 4s 2ms/step - loss: 0.5310 - accuracy: 0.8487 - val_loss: 0.2371 - val_accuracy: 0.9294\n",
      "1719/1719 [==============================] - 4s 2ms/step - loss: 0.5167 - accuracy: 0.8554 - val_loss: 0.2114 - val_accuracy: 0.9408\n",
      "1719/1719 [==============================] - 4s 2ms/step - loss: 0.4929 - accuracy: 0.8626 - val_loss: 0.2557 - val_accuracy: 0.9220\n",
      "1719/1719 [==============================] - 4s 2ms/step - loss: 0.4929 - accuracy: 0.8612 - val_loss: 0.2023 - val_accuracy: 0.9420\n",
      "1719/1719 [==============================] - 4s 2ms/step - loss: 0.4732 - accuracy: 0.8658 - val_loss: 0.2062 - val_accuracy: 0.9392\n",
      "1719/1719 [==============================] - 4s 3ms/step - loss: 0.4587 - accuracy: 0.8701 - val_loss: 0.2236 - val_accuracy: 0.9336\n",
      "1719/1719 [==============================] - 4s 2ms/step - loss: 0.4712 - accuracy: 0.8637 - val_loss: 0.2092 - val_accuracy: 0.9400\n",
      "1719/1719 [==============================] - 4s 2ms/step - loss: 0.4496 - accuracy: 0.8713 - val_loss: 0.1915 - val_accuracy: 0.9476\n",
      "1719/1719 [==============================] - 4s 2ms/step - loss: 0.4266 - accuracy: 0.8776 - val_loss: 0.1880 - val_accuracy: 0.9484\n",
      "1719/1719 [==============================] - 4s 2ms/step - loss: 0.4265 - accuracy: 0.8793 - val_loss: 0.1873 - val_accuracy: 0.9472\n",
      "1719/1719 [==============================] - 4s 2ms/step - loss: 0.4164 - accuracy: 0.8777 - val_loss: 0.2012 - val_accuracy: 0.9424\n",
      "1719/1719 [==============================] - 4s 2ms/step - loss: 0.4020 - accuracy: 0.8856 - val_loss: 0.1758 - val_accuracy: 0.9520\n",
      "1719/1719 [==============================] - 4s 2ms/step - loss: 0.4165 - accuracy: 0.8805 - val_loss: 0.1924 - val_accuracy: 0.9416\n",
      "1719/1719 [==============================] - 4s 3ms/step - loss: 0.4100 - accuracy: 0.8825 - val_loss: 0.2187 - val_accuracy: 0.9352\n",
      "1719/1719 [==============================] - 4s 2ms/step - loss: 0.3836 - accuracy: 0.8864 - val_loss: 0.2011 - val_accuracy: 0.9354\n",
      "1719/1719 [==============================] - 4s 2ms/step - loss: 0.3787 - accuracy: 0.8904 - val_loss: 0.1565 - val_accuracy: 0.9526\n",
      "1719/1719 [==============================] - 4s 2ms/step - loss: 0.3793 - accuracy: 0.8878 - val_loss: 0.1651 - val_accuracy: 0.9532\n",
      "1719/1719 [==============================] - 4s 2ms/step - loss: 0.3712 - accuracy: 0.8911 - val_loss: 0.1583 - val_accuracy: 0.9552\n",
      "1719/1719 [==============================] - 4s 2ms/step - loss: 0.3681 - accuracy: 0.8891 - val_loss: 0.1645 - val_accuracy: 0.9492\n",
      "1719/1719 [==============================] - 4s 2ms/step - loss: 0.3556 - accuracy: 0.8925 - val_loss: 0.1414 - val_accuracy: 0.9580\n",
      "1719/1719 [==============================] - 4s 2ms/step - loss: 0.3443 - accuracy: 0.8972 - val_loss: 0.1442 - val_accuracy: 0.9582\n",
      "1719/1719 [==============================] - 4s 2ms/step - loss: 0.3393 - accuracy: 0.8977 - val_loss: 0.1451 - val_accuracy: 0.9556\n",
      "1719/1719 [==============================] - 4s 2ms/step - loss: 0.3413 - accuracy: 0.8970 - val_loss: 0.2000 - val_accuracy: 0.9394\n",
      "1719/1719 [==============================] - 4s 2ms/step - loss: 0.3332 - accuracy: 0.8986 - val_loss: 0.1438 - val_accuracy: 0.9572\n",
      "1719/1719 [==============================] - 4s 2ms/step - loss: 0.3162 - accuracy: 0.9046 - val_loss: 0.1413 - val_accuracy: 0.9554\n",
      "1719/1719 [==============================] - 4s 2ms/step - loss: 0.3204 - accuracy: 0.9026 - val_loss: 0.1386 - val_accuracy: 0.9596\n",
      "1719/1719 [==============================] - 4s 2ms/step - loss: 0.3230 - accuracy: 0.9014 - val_loss: 0.1794 - val_accuracy: 0.9432\n",
      "1719/1719 [==============================] - 4s 2ms/step - loss: 0.3208 - accuracy: 0.9029 - val_loss: 0.1411 - val_accuracy: 0.9624\n",
      "1719/1719 [==============================] - 4s 2ms/step - loss: 0.3148 - accuracy: 0.9036 - val_loss: 0.1300 - val_accuracy: 0.9624\n",
      "1719/1719 [==============================] - 4s 2ms/step - loss: 0.3050 - accuracy: 0.9062 - val_loss: 0.1268 - val_accuracy: 0.9634\n",
      "1719/1719 [==============================] - 4s 2ms/step - loss: 0.3010 - accuracy: 0.9070 - val_loss: 0.1159 - val_accuracy: 0.9660\n",
      "1719/1719 [==============================] - 4s 2ms/step - loss: 0.2963 - accuracy: 0.9091 - val_loss: 0.1316 - val_accuracy: 0.9606\n",
      "1719/1719 [==============================] - 4s 2ms/step - loss: 0.2918 - accuracy: 0.9088 - val_loss: 0.1154 - val_accuracy: 0.9662\n",
      "1719/1719 [==============================] - 4s 2ms/step - loss: 0.2946 - accuracy: 0.9074 - val_loss: 0.1425 - val_accuracy: 0.9530\n",
      "1719/1719 [==============================] - 4s 2ms/step - loss: 0.2899 - accuracy: 0.9101 - val_loss: 0.1135 - val_accuracy: 0.9652\n",
      "1719/1719 [==============================] - 4s 2ms/step - loss: 0.2847 - accuracy: 0.9127 - val_loss: 0.1246 - val_accuracy: 0.9628\n",
      "1719/1719 [==============================] - 4s 2ms/step - loss: 0.2835 - accuracy: 0.9120 - val_loss: 0.1204 - val_accuracy: 0.9656\n",
      "1719/1719 [==============================] - 4s 2ms/step - loss: 0.2815 - accuracy: 0.9127 - val_loss: 0.1141 - val_accuracy: 0.9680\n",
      "1719/1719 [==============================] - 4s 2ms/step - loss: 0.2767 - accuracy: 0.9132 - val_loss: 0.1787 - val_accuracy: 0.9456\n",
      "1719/1719 [==============================] - 4s 2ms/step - loss: 0.2739 - accuracy: 0.9164 - val_loss: 0.1023 - val_accuracy: 0.9718\n",
      "1719/1719 [==============================] - 4s 2ms/step - loss: 0.2767 - accuracy: 0.9132 - val_loss: 0.1295 - val_accuracy: 0.9608\n",
      "1719/1719 [==============================] - 4s 2ms/step - loss: 0.2693 - accuracy: 0.9172 - val_loss: 0.1219 - val_accuracy: 0.9650\n",
      "1719/1719 [==============================] - 4s 2ms/step - loss: 0.2702 - accuracy: 0.9156 - val_loss: 0.1404 - val_accuracy: 0.9568\n",
      "1719/1719 [==============================] - 4s 2ms/step - loss: 0.2687 - accuracy: 0.9165 - val_loss: 0.1381 - val_accuracy: 0.9554\n",
      "1719/1719 [==============================] - 4s 2ms/step - loss: 0.2683 - accuracy: 0.9156 - val_loss: 0.1255 - val_accuracy: 0.9632\n",
      "1719/1719 [==============================] - 4s 2ms/step - loss: 0.2758 - accuracy: 0.9149 - val_loss: 0.2599 - val_accuracy: 0.9200\n",
      "1719/1719 [==============================] - 4s 2ms/step - loss: 0.2658 - accuracy: 0.9175 - val_loss: 0.1220 - val_accuracy: 0.9656\n",
      "1719/1719 [==============================] - 4s 2ms/step - loss: 0.2697 - accuracy: 0.9162 - val_loss: 0.1271 - val_accuracy: 0.9604\n",
      "1719/1719 [==============================] - 4s 2ms/step - loss: 0.2716 - accuracy: 0.9159 - val_loss: 0.1348 - val_accuracy: 0.9594\n",
      "1719/1719 [==============================] - 4s 2ms/step - loss: 0.2704 - accuracy: 0.9145 - val_loss: 0.0999 - val_accuracy: 0.9712\n",
      "1719/1719 [==============================] - 4s 2ms/step - loss: 0.2690 - accuracy: 0.9161 - val_loss: 0.1148 - val_accuracy: 0.9660\n",
      "1719/1719 [==============================] - 4s 2ms/step - loss: 0.2711 - accuracy: 0.9169 - val_loss: 0.1072 - val_accuracy: 0.9686\n",
      "1719/1719 [==============================] - 4s 2ms/step - loss: 0.2719 - accuracy: 0.9155 - val_loss: 0.1220 - val_accuracy: 0.9636\n",
      "1719/1719 [==============================] - 4s 2ms/step - loss: 0.2894 - accuracy: 0.9113 - val_loss: 0.1433 - val_accuracy: 0.9558\n",
      "1719/1719 [==============================] - 4s 2ms/step - loss: 0.2774 - accuracy: 0.9150 - val_loss: 0.1321 - val_accuracy: 0.9604\n",
      "1719/1719 [==============================] - 4s 2ms/step - loss: 0.2730 - accuracy: 0.9147 - val_loss: 0.1370 - val_accuracy: 0.9558\n",
      "1719/1719 [==============================] - 4s 2ms/step - loss: 0.2841 - accuracy: 0.9125 - val_loss: 0.1184 - val_accuracy: 0.9650\n",
      "1719/1719 [==============================] - 4s 2ms/step - loss: 0.2847 - accuracy: 0.9128 - val_loss: 0.1098 - val_accuracy: 0.9668\n",
      "1719/1719 [==============================] - 4s 2ms/step - loss: 0.2800 - accuracy: 0.9131 - val_loss: 0.1624 - val_accuracy: 0.9494\n",
      "1719/1719 [==============================] - 4s 2ms/step - loss: 0.2881 - accuracy: 0.9111 - val_loss: 0.1196 - val_accuracy: 0.9648\n",
      "1719/1719 [==============================] - 4s 2ms/step - loss: 0.2869 - accuracy: 0.9125 - val_loss: 0.1669 - val_accuracy: 0.9550\n",
      "1719/1719 [==============================] - 4s 2ms/step - loss: 0.2909 - accuracy: 0.9108 - val_loss: 0.1121 - val_accuracy: 0.9676\n",
      "1719/1719 [==============================] - 4s 2ms/step - loss: 0.3117 - accuracy: 0.9048 - val_loss: 0.1103 - val_accuracy: 0.9676\n",
      "1719/1719 [==============================] - 4s 2ms/step - loss: 0.3021 - accuracy: 0.9082 - val_loss: 0.1410 - val_accuracy: 0.9568\n",
      "1719/1719 [==============================] - 4s 2ms/step - loss: 0.3762 - accuracy: 0.8867 - val_loss: 0.1495 - val_accuracy: 0.9580\n"
     ]
    },
    {
     "name": "stdout",
     "output_type": "stream",
     "text": [
      "1719/1719 [==============================] - 4s 2ms/step - loss: 0.3398 - accuracy: 0.8969 - val_loss: 0.1517 - val_accuracy: 0.9584\n",
      "1719/1719 [==============================] - 4s 2ms/step - loss: 0.3813 - accuracy: 0.8842 - val_loss: 0.1965 - val_accuracy: 0.9430\n",
      "1719/1719 [==============================] - 4s 2ms/step - loss: 0.3166 - accuracy: 0.9043 - val_loss: 0.1357 - val_accuracy: 0.9616\n",
      "1719/1719 [==============================] - 4s 2ms/step - loss: 0.3561 - accuracy: 0.8916 - val_loss: 0.1198 - val_accuracy: 0.9668\n",
      "1719/1719 [==============================] - 4s 2ms/step - loss: 0.3792 - accuracy: 0.8851 - val_loss: 0.1740 - val_accuracy: 0.9542\n",
      "1719/1719 [==============================] - 4s 2ms/step - loss: 0.4233 - accuracy: 0.8736 - val_loss: 0.1433 - val_accuracy: 0.9586\n",
      "1719/1719 [==============================] - 4s 2ms/step - loss: 0.4200 - accuracy: 0.8720 - val_loss: 0.1482 - val_accuracy: 0.9590\n",
      "1719/1719 [==============================] - 4s 2ms/step - loss: nan - accuracy: 0.1354 - val_loss: nan - val_accuracy: 0.0958\n",
      "1719/1719 [==============================] - 4s 2ms/step - loss: nan - accuracy: 0.1514 - val_loss: nan - val_accuracy: 0.0958\n",
      "1719/1719 [==============================] - 4s 2ms/step - loss: nan - accuracy: 0.1612 - val_loss: nan - val_accuracy: 0.0958\n",
      "1719/1719 [==============================] - 4s 2ms/step - loss: 0.5585 - accuracy: 0.8353 - val_loss: 0.2108 - val_accuracy: 0.9488\n",
      "1719/1719 [==============================] - 4s 2ms/step - loss: 0.5642 - accuracy: 0.8287 - val_loss: 0.1822 - val_accuracy: 0.9540\n",
      "1719/1719 [==============================] - 4s 2ms/step - loss: nan - accuracy: 0.1076 - val_loss: nan - val_accuracy: 0.0958\n",
      "1719/1719 [==============================] - 4s 2ms/step - loss: 0.7650 - accuracy: 0.7570 - val_loss: 0.3171 - val_accuracy: 0.9186\n",
      "1719/1719 [==============================] - 4s 2ms/step - loss: nan - accuracy: 0.1346 - val_loss: nan - val_accuracy: 0.0958\n",
      "1719/1719 [==============================] - 4s 2ms/step - loss: 1.1523 - accuracy: 0.6094 - val_loss: 0.4307 - val_accuracy: 0.8914\n",
      "1719/1719 [==============================] - 4s 2ms/step - loss: 0.7673 - accuracy: 0.7581 - val_loss: 0.6866 - val_accuracy: 0.7816\n",
      "1719/1719 [==============================] - 4s 2ms/step - loss: nan - accuracy: 0.1012 - val_loss: nan - val_accuracy: 0.0958\n",
      "1719/1719 [==============================] - 4s 2ms/step - loss: 1.3511 - accuracy: 0.5387 - val_loss: 0.7960 - val_accuracy: 0.7036\n",
      "1719/1719 [==============================] - 4s 2ms/step - loss: 2.3099 - accuracy: 0.1108 - val_loss: 2.3037 - val_accuracy: 0.0986\n"
     ]
    }
   ],
   "source": [
    "my_learning_rate = 1e-3\n",
    "rates = []\n",
    "losses = []\n",
    "while my_learning_rate <= 1:\n",
    "    model = build_model(n_hidden=4, n_neurons=300, learning_rate=my_learning_rate)\n",
    "    history = model.fit(X_train, y_train, epochs=1,\n",
    "              validation_data=(X_valid, y_valid))\n",
    "    rates.append(my_learning_rate)\n",
    "    losses.append(history.history['loss'][0])\n",
    "    my_learning_rate = my_learning_rate*1.05    "
   ]
  },
  {
   "cell_type": "code",
   "execution_count": 24,
   "metadata": {},
   "outputs": [
    {
     "data": {
      "text/plain": [
       "Text(0, 0.5, 'Loss')"
      ]
     },
     "execution_count": 24,
     "metadata": {},
     "output_type": "execute_result"
    },
    {
     "data": {
      "image/png": "[encoded data removed]",
      "text/plain": [
       "<Figure size 432x288 with 1 Axes>"
      ]
     },
     "metadata": {
      "needs_background": "light"
     },
     "output_type": "display_data"
    }
   ],
   "source": [
    "plt.plot(rates, losses)\n",
    "plt.gca().set_xscale('log')\n",
    "plt.xlabel(\"Learning rate\")\n",
    "plt.ylabel(\"Loss\")"
   ]
  },
  {
   "cell_type": "markdown",
   "metadata": {},
   "source": [
    "Se elige 0.1 para el learning rate"
   ]
  },
  {
   "cell_type": "code",
   "execution_count": 16,
   "metadata": {
    "scrolled": true
   },
   "outputs": [
    {
     "name": "stdout",
     "output_type": "stream",
     "text": [
      "Epoch 1/100\n",
      "   2/1719 [..............................] - ETA: 10:28 - loss: 2.3512 - accuracy: 0.0938WARNING:tensorflow:Callbacks method `on_train_batch_end` is slow compared to the batch time (batch time: 0.0030s vs `on_train_batch_end` time: 0.7292s). Check your callbacks.\n",
      "1719/1719 [==============================] - 4s 2ms/step - loss: 0.2798 - accuracy: 0.9145 - val_loss: 0.1481 - val_accuracy: 0.9536\n",
      "Epoch 2/100\n",
      "1719/1719 [==============================] - 3s 2ms/step - loss: 0.1061 - accuracy: 0.9672 - val_loss: 0.0978 - val_accuracy: 0.9684\n",
      "Epoch 3/100\n",
      "1719/1719 [==============================] - 3s 2ms/step - loss: 0.0715 - accuracy: 0.9776 - val_loss: 0.0737 - val_accuracy: 0.9770\n",
      "Epoch 4/100\n",
      "1719/1719 [==============================] - 3s 2ms/step - loss: 0.0523 - accuracy: 0.9837 - val_loss: 0.0832 - val_accuracy: 0.9738\n",
      "Epoch 5/100\n",
      "1719/1719 [==============================] - 3s 2ms/step - loss: 0.0382 - accuracy: 0.9878 - val_loss: 0.1000 - val_accuracy: 0.9740\n",
      "Epoch 6/100\n",
      "1719/1719 [==============================] - 3s 2ms/step - loss: 0.0305 - accuracy: 0.9901 - val_loss: 0.0748 - val_accuracy: 0.9788\n",
      "Epoch 7/100\n",
      "1719/1719 [==============================] - 3s 2ms/step - loss: 0.0220 - accuracy: 0.9929 - val_loss: 0.0884 - val_accuracy: 0.9748\n",
      "Epoch 8/100\n",
      "1719/1719 [==============================] - 3s 2ms/step - loss: 0.0179 - accuracy: 0.9941 - val_loss: 0.0777 - val_accuracy: 0.9798\n",
      "Epoch 9/100\n",
      "1719/1719 [==============================] - 3s 2ms/step - loss: 0.0155 - accuracy: 0.9951 - val_loss: 0.0708 - val_accuracy: 0.9818\n",
      "Epoch 10/100\n",
      "1719/1719 [==============================] - 3s 2ms/step - loss: 0.0167 - accuracy: 0.9945 - val_loss: 0.0985 - val_accuracy: 0.9772\n",
      "Epoch 11/100\n",
      "1719/1719 [==============================] - 3s 2ms/step - loss: 0.0120 - accuracy: 0.9962 - val_loss: 0.0805 - val_accuracy: 0.9808\n",
      "Epoch 12/100\n",
      "1719/1719 [==============================] - 3s 2ms/step - loss: 0.0081 - accuracy: 0.9976 - val_loss: 0.0875 - val_accuracy: 0.9776\n",
      "Epoch 13/100\n",
      "1719/1719 [==============================] - 3s 2ms/step - loss: 0.0061 - accuracy: 0.9980 - val_loss: 0.0673 - val_accuracy: 0.9848\n",
      "Epoch 14/100\n",
      "1719/1719 [==============================] - 3s 2ms/step - loss: 0.0031 - accuracy: 0.9993 - val_loss: 0.0758 - val_accuracy: 0.9820\n",
      "Epoch 15/100\n",
      "1719/1719 [==============================] - 3s 2ms/step - loss: 0.0068 - accuracy: 0.9979 - val_loss: 0.0821 - val_accuracy: 0.9824\n",
      "Epoch 16/100\n",
      "1719/1719 [==============================] - 3s 2ms/step - loss: 0.0092 - accuracy: 0.9973 - val_loss: 0.1104 - val_accuracy: 0.9752\n",
      "Epoch 17/100\n",
      "1719/1719 [==============================] - 3s 2ms/step - loss: 0.0092 - accuracy: 0.9973 - val_loss: 0.0727 - val_accuracy: 0.9842\n",
      "Epoch 18/100\n",
      "1719/1719 [==============================] - 3s 2ms/step - loss: 0.0019 - accuracy: 0.9995 - val_loss: 0.0743 - val_accuracy: 0.9846\n",
      "Epoch 19/100\n",
      "1719/1719 [==============================] - 3s 2ms/step - loss: 3.6925e-04 - accuracy: 1.0000 - val_loss: 0.0712 - val_accuracy: 0.9860\n",
      "Epoch 20/100\n",
      "1719/1719 [==============================] - 3s 2ms/step - loss: 2.3161e-04 - accuracy: 0.9999 - val_loss: 0.0713 - val_accuracy: 0.9868\n",
      "Epoch 21/100\n",
      "1719/1719 [==============================] - 3s 2ms/step - loss: 1.1362e-04 - accuracy: 1.0000 - val_loss: 0.0728 - val_accuracy: 0.9862\n",
      "Epoch 22/100\n",
      "1719/1719 [==============================] - 3s 2ms/step - loss: 6.9290e-05 - accuracy: 1.0000 - val_loss: 0.0733 - val_accuracy: 0.9862\n",
      "Epoch 23/100\n",
      "1719/1719 [==============================] - 3s 2ms/step - loss: 5.7030e-05 - accuracy: 1.0000 - val_loss: 0.0744 - val_accuracy: 0.9860\n",
      "Epoch 24/100\n",
      "1719/1719 [==============================] - 3s 2ms/step - loss: 4.9364e-05 - accuracy: 1.0000 - val_loss: 0.0754 - val_accuracy: 0.9860\n",
      "Epoch 25/100\n",
      "1719/1719 [==============================] - 3s 2ms/step - loss: 4.3288e-05 - accuracy: 1.0000 - val_loss: 0.0761 - val_accuracy: 0.9860\n",
      "Epoch 26/100\n",
      "1719/1719 [==============================] - 3s 2ms/step - loss: 3.8816e-05 - accuracy: 1.0000 - val_loss: 0.0767 - val_accuracy: 0.9860\n",
      "Epoch 27/100\n",
      "1719/1719 [==============================] - 3s 2ms/step - loss: 3.5168e-05 - accuracy: 1.0000 - val_loss: 0.0773 - val_accuracy: 0.9862\n",
      "Epoch 28/100\n",
      "1719/1719 [==============================] - 3s 2ms/step - loss: 3.2237e-05 - accuracy: 1.0000 - val_loss: 0.0778 - val_accuracy: 0.9862\n",
      "Epoch 29/100\n",
      "1719/1719 [==============================] - 3s 2ms/step - loss: 2.9748e-05 - accuracy: 1.0000 - val_loss: 0.0783 - val_accuracy: 0.9862\n",
      "Epoch 30/100\n",
      "1719/1719 [==============================] - 3s 2ms/step - loss: 2.7610e-05 - accuracy: 1.0000 - val_loss: 0.0788 - val_accuracy: 0.9866\n",
      "Epoch 31/100\n",
      "1719/1719 [==============================] - 3s 2ms/step - loss: 2.5707e-05 - accuracy: 1.0000 - val_loss: 0.0792 - val_accuracy: 0.9866\n",
      "Epoch 32/100\n",
      "1719/1719 [==============================] - 3s 2ms/step - loss: 2.4134e-05 - accuracy: 1.0000 - val_loss: 0.0796 - val_accuracy: 0.9866\n",
      "Epoch 33/100\n",
      "1719/1719 [==============================] - 3s 2ms/step - loss: 2.2699e-05 - accuracy: 1.0000 - val_loss: 0.0799 - val_accuracy: 0.9866\n"
     ]
    }
   ],
   "source": [
    "run_logdir = os.path.join('four_layer_model',get_run_logdir())\n",
    "\n",
    "tensorboard_cb = keras.callbacks.TensorBoard(run_logdir)\n",
    "\n",
    "checkpoint_cb = keras.callbacks.ModelCheckpoint(\"four_layer_model.h5\",\n",
    "                                                save_best_only=True)\n",
    "\n",
    "early_stopping_cb = keras.callbacks.EarlyStopping(patience=20,\n",
    "                                                  restore_best_weights=True)\n",
    "\n",
    "four_layer_model = build_model(n_hidden=4, n_neurons=300, learning_rate=0.1)\n",
    "four_layer_history = four_layer_model.fit(X_train, y_train, epochs=100,\n",
    "              validation_data=(X_valid, y_valid),\n",
    "                    callbacks=[checkpoint_cb, early_stopping_cb,tensorboard_cb])"
   ]
  },
  {
   "cell_type": "code",
   "execution_count": 29,
   "metadata": {
    "scrolled": false
   },
   "outputs": [
    {
     "name": "stdout",
     "output_type": "stream",
     "text": [
      "313/313 [==============================] - 0s 924us/step - loss: 0.0795 - accuracy: 0.9826\n"
     ]
    }
   ],
   "source": [
    "loss_4l, accuracy_4l = four_layer_model.evaluate(X_test, y_test)"
   ]
  },
  {
   "cell_type": "code",
   "execution_count": 18,
   "metadata": {},
   "outputs": [
    {
     "data": {
      "image/png": "[encoded data removed]",
      "text/plain": [
       "<Figure size 576x360 with 1 Axes>"
      ]
     },
     "metadata": {
      "needs_background": "light"
     },
     "output_type": "display_data"
    }
   ],
   "source": [
    "plot_accuracy_loss(four_layer_history)"
   ]
  },
  {
   "cell_type": "code",
   "execution_count": 19,
   "metadata": {
    "scrolled": true
   },
   "outputs": [
    {
     "data": {
      "image/png": "[encoded data removed]",
      "text/plain": [
       "<Figure size 288x288 with 1 Axes>"
      ]
     },
     "metadata": {
      "needs_background": "light"
     },
     "output_type": "display_data"
    }
   ],
   "source": [
    "y_pred = four_layer_model.predict(X_test)\n",
    "plot_conf_mx(y_pred)"
   ]
  },
  {
   "cell_type": "markdown",
   "metadata": {},
   "source": [
    "Ahora que ya se han entrenado los tres modelos se pueden comparar sus accuracies y sus losses"
   ]
  },
  {
   "cell_type": "code",
   "execution_count": 37,
   "metadata": {
    "scrolled": true
   },
   "outputs": [
    {
     "data": {
      "image/png": "[encoded data removed]",
      "text/plain": [
       "<Figure size 432x288 with 1 Axes>"
      ]
     },
     "metadata": {
      "needs_background": "light"
     },
     "output_type": "display_data"
    }
   ],
   "source": [
    "fig = plt.figure()\n",
    "ax = fig.add_axes([0,0,1,1])\n",
    "labels = ['2 capas ocultas', '3 capas ocultas', '4 capas ocultas']\n",
    "accuracies = [accuracy_2l,accuracy_3l,accuracy_4l]\n",
    "ax.bar(labels,accuracies)\n",
    "ax.set_ylim([0.975,0.985])\n",
    "ax.set_title('Accuracies')\n",
    "plt.show()"
   ]
  },
  {
   "cell_type": "code",
   "execution_count": 40,
   "metadata": {},
   "outputs": [
    {
     "data": {
      "image/png": "[encoded data removed]",
      "text/plain": [
       "<Figure size 432x288 with 1 Axes>"
      ]
     },
     "metadata": {
      "needs_background": "light"
     },
     "output_type": "display_data"
    }
   ],
   "source": [
    "fig = plt.figure()\n",
    "ax = fig.add_axes([0,0,1,1])\n",
    "labels = ['2 capas ocultas', '3 capas ocultas', '4 capas ocultas']\n",
    "accuracies = [loss_2l,loss_3l,loss_4l]\n",
    "ax.bar(labels,accuracies)\n",
    "ax.set_ylim([0.05,0.085])\n",
    "ax.set_title('Losses')\n",
    "plt.show()"
   ]
  },
  {
   "cell_type": "markdown",
   "metadata": {},
   "source": [
    "## Conclusiones"
   ]
  },
  {
   "cell_type": "markdown",
   "metadata": {},
   "source": [
    "Los tres modelos alcanzan una exactitud muy similar de alrededor del 98%. Esto indica que si el modelo tiene un número suficientemente alto de parámetros (en este caso weights and biases), variar el número de capas no afecta a la calidad del modelo. \n",
    "\n",
    "Un hiperparámetro que si resulta crucial es el learning rate, pues como se puede ver en las curvas de loss vs learning rate, para un learning rate muy pequeño el modelo aprende muy despacio, pero para un valor demasiado alto el modelo nunca será capz de aprender.\n",
    "\n",
    "Por otro lado, las matrices de confusión indican que hay números que el modelo tiende a clasificar mal. Entrenando varias veces cada modelo se ha observado que de manera consistente suele confundir el 3 con el 5 y el 4 con el 9. Esto es bastante lógico ya que dependiendo de como escriba una persona estos números pueden parecerse mucho.\n",
    "\n",
    "Por último, se ha observado que el modelo de red neuronal puede producir resultados distintos cada vez que se entrena. Esto es debido a que el proceso de entrenamiento tiene una aleatoriedad inherente en la inicialización de los pesos. Aunque esto no ha supuesto un problema, conviene tenerlo en cuenta al comparar modelos con exactitudes similares, como se ha dado en este ejercicio."
   ]
  }
 ],
 "metadata": {
  "kernelspec": {
   "display_name": "Python 3 (ipykernel)",
   "language": "python",
   "name": "python3"
  },
  "language_info": {
   "codemirror_mode": {
    "name": "ipython",
    "version": 3
   },
   "file_extension": ".py",
   "mimetype": "text/x-python",
   "name": "python",
   "nbconvert_exporter": "python",
   "pygments_lexer": "ipython3",
   "version": "3.9.12"
  }
 },
 "nbformat": 4,
 "nbformat_minor": 4
}
